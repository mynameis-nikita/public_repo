{
 "cells": [
  {
   "cell_type": "markdown",
   "id": "e97c3676",
   "metadata": {},
   "source": [
    "<img src='https://imageup.ru/img93/4099641/snimok-ekrana-2022-12-08-v-115804.jpg' width='1500' margins='0'>"
   ]
  },
  {
   "cell_type": "markdown",
   "id": "76e68134",
   "metadata": {},
   "source": [
    "Uploaded to Git"
   ]
  },
  {
   "cell_type": "markdown",
   "id": "08f183d6",
   "metadata": {},
   "source": [
    "## Темы  "
   ]
  },
  {
   "cell_type": "markdown",
   "id": "8acd91c3",
   "metadata": {},
   "source": [
    "1. Определение \n",
    "2. Формулировка проблемы\n",
    "3. Математические преобразования\n",
    "    1. Понятие математического шанса\n",
    "    2. Логарифмическое представление шанса"
   ]
  },
  {
   "cell_type": "markdown",
   "id": "ad80e953",
   "metadata": {},
   "source": [
    "## 1. Определение "
   ]
  },
  {
   "cell_type": "markdown",
   "id": "56066039",
   "metadata": {},
   "source": [
    "Логистическая регрессия - статистическая модель классификации.\n",
    "Я буду говорить про двоичную (бинарную) регрессию"
   ]
  },
  {
   "cell_type": "markdown",
   "id": "b39dbd97",
   "metadata": {},
   "source": [
    "В отличие от линейных моделей, где результатом является некая количественная переменная. То есть некая величина из непрерывного числового ряда. Результатом применения логистической функции является вероятность отнесения события к одному из классов.\n",
    "Простыми словами вероятность положительного или отрицательного исхода. 1 или 0, выжил пассажир или нет. котик или собака."
   ]
  },
  {
   "cell_type": "markdown",
   "id": "ac22980e",
   "metadata": {},
   "source": [
    "* На входе - набор переменных (номинативных и количественных) в качестве предиктора\n",
    "* На выходе - вероятность отнесения к классу номинативной целевой переменной\n",
    "\n",
    "В общем виде выражение имеет следующий вид:"
   ]
  },
  {
   "cell_type": "markdown",
   "id": "4a93580a",
   "metadata": {},
   "source": [
    "$$ p = \\beta_0 + \\beta_1x_1 + \\beta_2x_2 + ... + \\beta_kx_k $$"
   ]
  },
  {
   "cell_type": "markdown",
   "id": "0012fb2a",
   "metadata": {},
   "source": [
    "_____"
   ]
  },
  {
   "cell_type": "markdown",
   "id": "ebc108fb",
   "metadata": {},
   "source": [
    "## 2. Формулировка проблемы"
   ]
  },
  {
   "cell_type": "markdown",
   "id": "eeefd667",
   "metadata": {},
   "source": [
    "Еще раз посмотрим на выражение:"
   ]
  },
  {
   "cell_type": "markdown",
   "id": "9028b54b",
   "metadata": {},
   "source": [
    "$$ p = \\beta_0 + \\beta_1x_1 + \\beta_2x_2 + ... + \\beta_kx_k $$"
   ]
  },
  {
   "cell_type": "markdown",
   "id": "92936a21",
   "metadata": {},
   "source": [
    "В левой части выражения:     \n",
    " \n",
    "p - Лежит на промежутке [0,1],\n"
   ]
  },
  {
   "cell_type": "markdown",
   "id": "bfb910fc",
   "metadata": {},
   "source": [
    "В правой части:\n",
    "\n",
    "$\\beta_0 + \\beta_1x_1 + \\beta_2x_2 + ... + \\beta_kx_k $ , Лежат на промежутке $(-\\infty, +\\infty)$"
   ]
  },
  {
   "cell_type": "markdown",
   "id": "8f68b561",
   "metadata": {},
   "source": [
    "$x1$, $x2$...$xb$ - коэффициенты, которые могут принимать любые номинативные или количественные значения\n",
    "\n",
    "$\\beta_0$ - intercept (для простоты восприятия - будем считать, что это точка пересечения Логистическим Дискриминантом оси y)\n",
    "\n",
    "$\\beta_1,\\beta_2,\\beta_k$ - \"веса\" коэффициентов. То есть их влияние на целевую переменную\n",
    "\n"
   ]
  },
  {
   "cell_type": "markdown",
   "id": "0ff2a4bb",
   "metadata": {},
   "source": [
    "Таким образом выражение имеет вид:"
   ]
  },
  {
   "cell_type": "markdown",
   "id": "db9868bc",
   "metadata": {},
   "source": [
    "$$ [0,1] = (-\\infty, +\\infty) $$"
   ]
  },
  {
   "cell_type": "markdown",
   "id": "43287aae",
   "metadata": {},
   "source": [
    "### Задача:\n",
    "выполнить математическое преобразование выражения и привести обе его стороны к одному виду."
   ]
  },
  {
   "cell_type": "markdown",
   "id": "fd7c9115",
   "metadata": {},
   "source": [
    "_________"
   ]
  },
  {
   "cell_type": "markdown",
   "id": "e17b7c8a",
   "metadata": {},
   "source": [
    "## 3. Преобразование "
   ]
  },
  {
   "cell_type": "markdown",
   "id": "9f1a499c",
   "metadata": {},
   "source": [
    "Преобразование выполняется в два шага"
   ]
  },
  {
   "cell_type": "markdown",
   "id": "4adddc18",
   "metadata": {},
   "source": [
    "### 3.1 Переход от вероятности к Шансу (odds)"
   ]
  },
  {
   "cell_type": "markdown",
   "id": "72511172",
   "metadata": {},
   "source": [
    "Определение Шанса:\n",
    "\n",
    "Шанс — это характеристика случайного события, равная отношению вероятности события \n",
    "A к вероятности события B"
   ]
  },
  {
   "cell_type": "markdown",
   "id": "dce5664b",
   "metadata": {},
   "source": [
    "<img src='https://imageup.ru/img240/4099624/rocks.jpg' width='650'>"
   ]
  },
  {
   "cell_type": "markdown",
   "id": "dc071fff",
   "metadata": {},
   "source": [
    "Вопрос №1: Посчитать вероятность и шанс случайно выбрать черный камушек из мешка"
   ]
  },
  {
   "cell_type": "markdown",
   "id": "ffdf53a3",
   "metadata": {},
   "source": [
    "Вопрос №2: Посчитать вероятность и шанс случайно выбрать белый камушек"
   ]
  },
  {
   "cell_type": "code",
   "execution_count": 90,
   "id": "217c4f38",
   "metadata": {
    "scrolled": true
   },
   "outputs": [],
   "source": [
    "import math\n",
    "import pandas as pd\n",
    "import seaborn as sns\n",
    "import numpy as np\n",
    "import matplotlib.pyplot as plt\n",
    "import statsmodels.api as sm\n",
    "import statsmodels.formula.api as smf\n",
    "from statsmodels.graphics.mosaicplot import mosaic"
   ]
  },
  {
   "cell_type": "code",
   "execution_count": 75,
   "id": "27e6f7bb",
   "metadata": {},
   "outputs": [
    {
     "data": {
      "text/html": [
       "<div>\n",
       "<style scoped>\n",
       "    .dataframe tbody tr th:only-of-type {\n",
       "        vertical-align: middle;\n",
       "    }\n",
       "\n",
       "    .dataframe tbody tr th {\n",
       "        vertical-align: top;\n",
       "    }\n",
       "\n",
       "    .dataframe thead th {\n",
       "        text-align: right;\n",
       "    }\n",
       "</style>\n",
       "<table border=\"1\" class=\"dataframe\">\n",
       "  <thead>\n",
       "    <tr style=\"text-align: right;\">\n",
       "      <th></th>\n",
       "      <th>p</th>\n",
       "      <th>odds</th>\n",
       "    </tr>\n",
       "  </thead>\n",
       "  <tbody>\n",
       "    <tr>\n",
       "      <th>0</th>\n",
       "      <td>0.01</td>\n",
       "      <td>0.010101</td>\n",
       "    </tr>\n",
       "    <tr>\n",
       "      <th>1</th>\n",
       "      <td>0.02</td>\n",
       "      <td>0.020408</td>\n",
       "    </tr>\n",
       "    <tr>\n",
       "      <th>2</th>\n",
       "      <td>0.03</td>\n",
       "      <td>0.030928</td>\n",
       "    </tr>\n",
       "    <tr>\n",
       "      <th>3</th>\n",
       "      <td>0.04</td>\n",
       "      <td>0.041667</td>\n",
       "    </tr>\n",
       "    <tr>\n",
       "      <th>4</th>\n",
       "      <td>0.05</td>\n",
       "      <td>0.052632</td>\n",
       "    </tr>\n",
       "  </tbody>\n",
       "</table>\n",
       "</div>"
      ],
      "text/plain": [
       "      p      odds\n",
       "0  0.01  0.010101\n",
       "1  0.02  0.020408\n",
       "2  0.03  0.030928\n",
       "3  0.04  0.041667\n",
       "4  0.05  0.052632"
      ]
     },
     "execution_count": 75,
     "metadata": {},
     "output_type": "execute_result"
    }
   ],
   "source": [
    "data = pd.DataFrame({'p':(i/10 for i in np.arange(0.1,10,0.1)), \n",
    "                   'odds':((i/10)/(1-(i/10)) if i !=10 else 99 for i in np.arange (0.1,10,0.1)) \n",
    "                  })\n",
    "data.head()"
   ]
  },
  {
   "cell_type": "code",
   "execution_count": 76,
   "id": "f257bc3e",
   "metadata": {},
   "outputs": [
    {
     "data": {
      "image/png": "[encoded data removed]",
      "text/plain": [
       "<Figure size 300x300 with 1 Axes>"
      ]
     },
     "metadata": {},
     "output_type": "display_data"
    }
   ],
   "source": [
    "sns.set(rc = {'figure.figsize': (3, 3)})\n",
    "sns.lineplot(x=data['p'],y=data['odds'])\n",
    "plt.title('Зависимость Шанса от вероятности', fontdict={'fontsize':12});"
   ]
  },
  {
   "cell_type": "markdown",
   "id": "9658388a",
   "metadata": {},
   "source": [
    "Таким образом теперь выражение имеет вид:"
   ]
  },
  {
   "cell_type": "markdown",
   "id": "fb49687d",
   "metadata": {},
   "source": [
    "$$ [0,+\\infty) = (-\\infty, +\\infty) $$"
   ]
  },
  {
   "cell_type": "markdown",
   "id": "5d1ff91d",
   "metadata": {},
   "source": [
    "Тем самым верхняя граница стала равна + бесконечности, но остаётся задача пробразования нижней границы."
   ]
  },
  {
   "cell_type": "markdown",
   "id": "e2673c00",
   "metadata": {},
   "source": [
    "### 3.2 Переход от Шанса к Логарифму шансов"
   ]
  },
  {
   "cell_type": "markdown",
   "id": "c8ebf6e0",
   "metadata": {},
   "source": [
    "Теперь еще раз выполним преобразование функции при помощи логарифма "
   ]
  },
  {
   "cell_type": "code",
   "execution_count": 77,
   "id": "fac26c57",
   "metadata": {},
   "outputs": [],
   "source": [
    "log = pd.DataFrame({'log': (math.log(i) if i!=0.0 else -3 for i in data.odds)})\n",
    "data = data.join(log)"
   ]
  },
  {
   "cell_type": "code",
   "execution_count": 78,
   "id": "0e95e9f7",
   "metadata": {
    "scrolled": false
   },
   "outputs": [
    {
     "data": {
      "text/html": [
       "<div>\n",
       "<style scoped>\n",
       "    .dataframe tbody tr th:only-of-type {\n",
       "        vertical-align: middle;\n",
       "    }\n",
       "\n",
       "    .dataframe tbody tr th {\n",
       "        vertical-align: top;\n",
       "    }\n",
       "\n",
       "    .dataframe thead th {\n",
       "        text-align: right;\n",
       "    }\n",
       "</style>\n",
       "<table border=\"1\" class=\"dataframe\">\n",
       "  <thead>\n",
       "    <tr style=\"text-align: right;\">\n",
       "      <th></th>\n",
       "      <th>p</th>\n",
       "      <th>odds</th>\n",
       "      <th>log</th>\n",
       "    </tr>\n",
       "  </thead>\n",
       "  <tbody>\n",
       "    <tr>\n",
       "      <th>0</th>\n",
       "      <td>0.01</td>\n",
       "      <td>0.010101</td>\n",
       "      <td>-4.595120</td>\n",
       "    </tr>\n",
       "    <tr>\n",
       "      <th>1</th>\n",
       "      <td>0.02</td>\n",
       "      <td>0.020408</td>\n",
       "      <td>-3.891820</td>\n",
       "    </tr>\n",
       "    <tr>\n",
       "      <th>2</th>\n",
       "      <td>0.03</td>\n",
       "      <td>0.030928</td>\n",
       "      <td>-3.476099</td>\n",
       "    </tr>\n",
       "    <tr>\n",
       "      <th>96</th>\n",
       "      <td>0.97</td>\n",
       "      <td>32.333333</td>\n",
       "      <td>3.476099</td>\n",
       "    </tr>\n",
       "    <tr>\n",
       "      <th>97</th>\n",
       "      <td>0.98</td>\n",
       "      <td>49.000000</td>\n",
       "      <td>3.891820</td>\n",
       "    </tr>\n",
       "    <tr>\n",
       "      <th>98</th>\n",
       "      <td>0.99</td>\n",
       "      <td>99.000000</td>\n",
       "      <td>4.595120</td>\n",
       "    </tr>\n",
       "  </tbody>\n",
       "</table>\n",
       "</div>"
      ],
      "text/plain": [
       "       p       odds       log\n",
       "0   0.01   0.010101 -4.595120\n",
       "1   0.02   0.020408 -3.891820\n",
       "2   0.03   0.030928 -3.476099\n",
       "96  0.97  32.333333  3.476099\n",
       "97  0.98  49.000000  3.891820\n",
       "98  0.99  99.000000  4.595120"
      ]
     },
     "execution_count": 78,
     "metadata": {},
     "output_type": "execute_result"
    }
   ],
   "source": [
    "data.iloc[[0,1,2,-3,-2,-1]]"
   ]
  },
  {
   "cell_type": "code",
   "execution_count": 79,
   "id": "3a44e30c",
   "metadata": {},
   "outputs": [
    {
     "data": {
      "image/png": "[encoded data removed]",
      "text/plain": [
       "<Figure size 900x300 with 2 Axes>"
      ]
     },
     "metadata": {},
     "output_type": "display_data"
    }
   ],
   "source": [
    "sns.set(rc = {'figure.figsize': (9, 3)})\n",
    "# Зависимость логарифма Шанса от Шанса\n",
    "plt.subplot(1,2,1)\n",
    "sns.lineplot(x=data['odds'], y=data['log'])\n",
    "plt.title('Зависимость логарифма Шанса от Шанса \\n')\n",
    "# Зависимость логарифма Шанса от вероятности\n",
    "plt.subplot(1,2,2)\n",
    "sns.lineplot(x=data['p'], y=data['log'])\n",
    "plt.title('Зависимость логарифма Шанса от вероятности \\n');\n",
    "\n",
    "plt.subplots_adjust(hspace=0.5, wspace=1)\n",
    "plt.show()"
   ]
  },
  {
   "cell_type": "markdown",
   "id": "8df9d86d",
   "metadata": {},
   "source": [
    "Теперь, мы привели две части уравнения к следующему виду:"
   ]
  },
  {
   "cell_type": "markdown",
   "id": "6712e7f0",
   "metadata": {},
   "source": [
    "$$ (-\\infty,+\\infty) = (-\\infty, +\\infty) $$"
   ]
  },
  {
   "cell_type": "markdown",
   "id": "e496ecb6",
   "metadata": {},
   "source": [
    "Таким образом, вероятность может быть выражена через экспаненту функции, которая описывает линию (область) дискиминатна"
   ]
  },
  {
   "cell_type": "markdown",
   "id": "1d05a8df",
   "metadata": {},
   "source": [
    "$$ p =  \\frac{exp(\\beta_0 + \\beta_1x_1 + \\beta_2x_2 + ... + \\beta_kx_k)}{1+ exp(\\beta_0 + \\beta_1x_1 + \\beta_2x_2 + ... + \\beta_kx_k)} $$"
   ]
  },
  {
   "cell_type": "markdown",
   "id": "4443ab72",
   "metadata": {},
   "source": [
    "## 4. Модель без предикторов"
   ]
  },
  {
   "cell_type": "code",
   "execution_count": 118,
   "id": "2bb19cbd",
   "metadata": {},
   "outputs": [],
   "source": [
    "df = pd.read_csv('https://stepic.org/media/attachments/course/524/train.csv')\n",
    "df = df[df.Age.notnull()]"
   ]
  },
  {
   "cell_type": "code",
   "execution_count": 120,
   "id": "e8a3d946",
   "metadata": {},
   "outputs": [
    {
     "data": {
      "text/html": [
       "<table class=\"simpletable\">\n",
       "<caption>Generalized Linear Model Regression Results</caption>\n",
       "<tr>\n",
       "  <th>Dep. Variable:</th>       <td>Survived</td>     <th>  No. Observations:  </th>  <td>   714</td>  \n",
       "</tr>\n",
       "<tr>\n",
       "  <th>Model:</th>                  <td>GLM</td>       <th>  Df Residuals:      </th>  <td>   713</td>  \n",
       "</tr>\n",
       "<tr>\n",
       "  <th>Model Family:</th>        <td>Binomial</td>     <th>  Df Model:          </th>  <td>     0</td>  \n",
       "</tr>\n",
       "<tr>\n",
       "  <th>Link Function:</th>         <td>Logit</td>      <th>  Scale:             </th> <td>  1.0000</td> \n",
       "</tr>\n",
       "<tr>\n",
       "  <th>Method:</th>                <td>IRLS</td>       <th>  Log-Likelihood:    </th> <td> -482.26</td> \n",
       "</tr>\n",
       "<tr>\n",
       "  <th>Date:</th>            <td>Thu, 08 Dec 2022</td> <th>  Deviance:          </th> <td>  964.52</td> \n",
       "</tr>\n",
       "<tr>\n",
       "  <th>Time:</th>                <td>17:40:19</td>     <th>  Pearson chi2:      </th>  <td>  714.</td>  \n",
       "</tr>\n",
       "<tr>\n",
       "  <th>No. Iterations:</th>          <td>4</td>        <th>  Pseudo R-squ. (CS):</th> <td>1.110e-16</td>\n",
       "</tr>\n",
       "<tr>\n",
       "  <th>Covariance Type:</th>     <td>nonrobust</td>    <th>                     </th>     <td> </td>    \n",
       "</tr>\n",
       "</table>\n",
       "<table class=\"simpletable\">\n",
       "<tr>\n",
       "      <td></td>         <th>coef</th>     <th>std err</th>      <th>z</th>      <th>P>|z|</th>  <th>[0.025</th>    <th>0.975]</th>  \n",
       "</tr>\n",
       "<tr>\n",
       "  <th>Intercept</th> <td>   -0.3799</td> <td>    0.076</td> <td>   -4.985</td> <td> 0.000</td> <td>   -0.529</td> <td>   -0.230</td>\n",
       "</tr>\n",
       "</table>"
      ],
      "text/plain": [
       "<class 'statsmodels.iolib.summary.Summary'>\n",
       "\"\"\"\n",
       "                 Generalized Linear Model Regression Results                  \n",
       "==============================================================================\n",
       "Dep. Variable:               Survived   No. Observations:                  714\n",
       "Model:                            GLM   Df Residuals:                      713\n",
       "Model Family:                Binomial   Df Model:                            0\n",
       "Link Function:                  Logit   Scale:                          1.0000\n",
       "Method:                          IRLS   Log-Likelihood:                -482.26\n",
       "Date:                Thu, 08 Dec 2022   Deviance:                       964.52\n",
       "Time:                        17:40:19   Pearson chi2:                     714.\n",
       "No. Iterations:                     4   Pseudo R-squ. (CS):          1.110e-16\n",
       "Covariance Type:            nonrobust                                         \n",
       "==============================================================================\n",
       "                 coef    std err          z      P>|z|      [0.025      0.975]\n",
       "------------------------------------------------------------------------------\n",
       "Intercept     -0.3799      0.076     -4.985      0.000      -0.529      -0.230\n",
       "==============================================================================\n",
       "\"\"\""
      ]
     },
     "execution_count": 120,
     "metadata": {},
     "output_type": "execute_result"
    }
   ],
   "source": [
    "glm_binomial = smf.glm(formula='Survived ~ 1', data=df, family=sm.families.Binomial()).fit()\n",
    "glm_binomial.summary()"
   ]
  },
  {
   "cell_type": "code",
   "execution_count": 106,
   "id": "8b2a82dd",
   "metadata": {},
   "outputs": [
    {
     "data": {
      "text/plain": [
       "0.6839297987726981"
      ]
     },
     "execution_count": 106,
     "metadata": {},
     "output_type": "execute_result"
    }
   ],
   "source": [
    "math.exp(-0.3799)"
   ]
  },
  {
   "cell_type": "code",
   "execution_count": 113,
   "id": "8a8a077f",
   "metadata": {},
   "outputs": [
    {
     "data": {
      "text/plain": [
       "0    424\n",
       "1    290\n",
       "Name: Survived, dtype: int64"
      ]
     },
     "execution_count": 113,
     "metadata": {},
     "output_type": "execute_result"
    }
   ],
   "source": [
    "df.Survived.value_counts()"
   ]
  },
  {
   "cell_type": "code",
   "execution_count": 115,
   "id": "da033d3b",
   "metadata": {},
   "outputs": [
    {
     "data": {
      "text/plain": [
       "0.6839622641509434"
      ]
     },
     "execution_count": 115,
     "metadata": {},
     "output_type": "execute_result"
    }
   ],
   "source": [
    "290/424"
   ]
  },
  {
   "cell_type": "markdown",
   "id": "e13fa7e3",
   "metadata": {},
   "source": [
    "## 5. Модель с одним предиктором"
   ]
  },
  {
   "cell_type": "markdown",
   "id": "d3590b80",
   "metadata": {},
   "source": [
    "Добавим один предиктор в модель. Пусть это будет Пол"
   ]
  },
  {
   "cell_type": "code",
   "execution_count": 143,
   "id": "02d1bb91",
   "metadata": {},
   "outputs": [
    {
     "data": {
      "text/html": [
       "<div>\n",
       "<style scoped>\n",
       "    .dataframe tbody tr th:only-of-type {\n",
       "        vertical-align: middle;\n",
       "    }\n",
       "\n",
       "    .dataframe tbody tr th {\n",
       "        vertical-align: top;\n",
       "    }\n",
       "\n",
       "    .dataframe thead th {\n",
       "        text-align: right;\n",
       "    }\n",
       "</style>\n",
       "<table border=\"1\" class=\"dataframe\">\n",
       "  <thead>\n",
       "    <tr style=\"text-align: right;\">\n",
       "      <th></th>\n",
       "      <th>Sex</th>\n",
       "      <th>Survived</th>\n",
       "      <th>count</th>\n",
       "    </tr>\n",
       "  </thead>\n",
       "  <tbody>\n",
       "    <tr>\n",
       "      <th>0</th>\n",
       "      <td>female</td>\n",
       "      <td>1</td>\n",
       "      <td>197</td>\n",
       "    </tr>\n",
       "    <tr>\n",
       "      <th>1</th>\n",
       "      <td>female</td>\n",
       "      <td>0</td>\n",
       "      <td>64</td>\n",
       "    </tr>\n",
       "    <tr>\n",
       "      <th>2</th>\n",
       "      <td>male</td>\n",
       "      <td>0</td>\n",
       "      <td>360</td>\n",
       "    </tr>\n",
       "    <tr>\n",
       "      <th>3</th>\n",
       "      <td>male</td>\n",
       "      <td>1</td>\n",
       "      <td>93</td>\n",
       "    </tr>\n",
       "  </tbody>\n",
       "</table>\n",
       "</div>"
      ],
      "text/plain": [
       "      Sex  Survived  count\n",
       "0  female         1    197\n",
       "1  female         0     64\n",
       "2    male         0    360\n",
       "3    male         1     93"
      ]
     },
     "execution_count": 143,
     "metadata": {},
     "output_type": "execute_result"
    }
   ],
   "source": [
    "df.groupby('Sex', as_index=False).Survived.value_counts()"
   ]
  },
  {
   "cell_type": "code",
   "execution_count": 144,
   "id": "1851339a",
   "metadata": {},
   "outputs": [
    {
     "data": {
      "text/plain": [
       "714"
      ]
     },
     "execution_count": 144,
     "metadata": {},
     "output_type": "execute_result"
    }
   ],
   "source": [
    "len(df.Sex)"
   ]
  },
  {
   "cell_type": "code",
   "execution_count": 150,
   "id": "db601d7d",
   "metadata": {},
   "outputs": [
    {
     "name": "stdout",
     "output_type": "stream",
     "text": [
      "0.38104448742746616 0.1497584541062802\n",
      "0.7547892720306514 0.2052980132450331\n"
     ]
    }
   ],
   "source": [
    "male_odds = 93/(714-93)\n",
    "female_odds = 197/(714-197)\n",
    "print(female_odds, male_odds)\n",
    "\n",
    "only_male_odds = 93/(93+360)\n",
    "only_female_odds = 197/(197+64)\n",
    "print(only_female_odds, only_male_odds)"
   ]
  },
  {
   "cell_type": "code",
   "execution_count": 124,
   "id": "6c4a7ccc",
   "metadata": {},
   "outputs": [
    {
     "data": {
      "text/html": [
       "<table class=\"simpletable\">\n",
       "<caption>Generalized Linear Model Regression Results</caption>\n",
       "<tr>\n",
       "  <th>Dep. Variable:</th>       <td>Survived</td>     <th>  No. Observations:  </th>  <td>   714</td> \n",
       "</tr>\n",
       "<tr>\n",
       "  <th>Model:</th>                  <td>GLM</td>       <th>  Df Residuals:      </th>  <td>   712</td> \n",
       "</tr>\n",
       "<tr>\n",
       "  <th>Model Family:</th>        <td>Binomial</td>     <th>  Df Model:          </th>  <td>     1</td> \n",
       "</tr>\n",
       "<tr>\n",
       "  <th>Link Function:</th>         <td>Logit</td>      <th>  Scale:             </th> <td>  1.0000</td>\n",
       "</tr>\n",
       "<tr>\n",
       "  <th>Method:</th>                <td>IRLS</td>       <th>  Log-Likelihood:    </th> <td> -375.35</td>\n",
       "</tr>\n",
       "<tr>\n",
       "  <th>Date:</th>            <td>Thu, 08 Dec 2022</td> <th>  Deviance:          </th> <td>  750.70</td>\n",
       "</tr>\n",
       "<tr>\n",
       "  <th>Time:</th>                <td>17:41:01</td>     <th>  Pearson chi2:      </th>  <td>  714.</td> \n",
       "</tr>\n",
       "<tr>\n",
       "  <th>No. Iterations:</th>          <td>4</td>        <th>  Pseudo R-squ. (CS):</th>  <td>0.2588</td> \n",
       "</tr>\n",
       "<tr>\n",
       "  <th>Covariance Type:</th>     <td>nonrobust</td>    <th>                     </th>     <td> </td>   \n",
       "</tr>\n",
       "</table>\n",
       "<table class=\"simpletable\">\n",
       "<tr>\n",
       "       <td></td>          <th>coef</th>     <th>std err</th>      <th>z</th>      <th>P>|z|</th>  <th>[0.025</th>    <th>0.975]</th>  \n",
       "</tr>\n",
       "<tr>\n",
       "  <th>Intercept</th>   <td>    1.1243</td> <td>    0.144</td> <td>    7.814</td> <td> 0.000</td> <td>    0.842</td> <td>    1.406</td>\n",
       "</tr>\n",
       "<tr>\n",
       "  <th>Sex[T.male]</th> <td>   -2.4778</td> <td>    0.185</td> <td>  -13.392</td> <td> 0.000</td> <td>   -2.840</td> <td>   -2.115</td>\n",
       "</tr>\n",
       "</table>"
      ],
      "text/plain": [
       "<class 'statsmodels.iolib.summary.Summary'>\n",
       "\"\"\"\n",
       "                 Generalized Linear Model Regression Results                  \n",
       "==============================================================================\n",
       "Dep. Variable:               Survived   No. Observations:                  714\n",
       "Model:                            GLM   Df Residuals:                      712\n",
       "Model Family:                Binomial   Df Model:                            1\n",
       "Link Function:                  Logit   Scale:                          1.0000\n",
       "Method:                          IRLS   Log-Likelihood:                -375.35\n",
       "Date:                Thu, 08 Dec 2022   Deviance:                       750.70\n",
       "Time:                        17:41:01   Pearson chi2:                     714.\n",
       "No. Iterations:                     4   Pseudo R-squ. (CS):             0.2588\n",
       "Covariance Type:            nonrobust                                         \n",
       "===============================================================================\n",
       "                  coef    std err          z      P>|z|      [0.025      0.975]\n",
       "-------------------------------------------------------------------------------\n",
       "Intercept       1.1243      0.144      7.814      0.000       0.842       1.406\n",
       "Sex[T.male]    -2.4778      0.185    -13.392      0.000      -2.840      -2.115\n",
       "===============================================================================\n",
       "\"\"\""
      ]
     },
     "execution_count": 124,
     "metadata": {},
     "output_type": "execute_result"
    }
   ],
   "source": [
    "glm_binomial = smf.glm(formula='Survived ~ Sex', data=df, family=sm.families.Binomial()).fit()\n",
    "glm_binomial.summary()"
   ]
  },
  {
   "cell_type": "markdown",
   "id": "f49d6182",
   "metadata": {},
   "source": [
    "Здесь Intercept 1.1243"
   ]
  },
  {
   "cell_type": "code",
   "execution_count": 126,
   "id": "4274cc60",
   "metadata": {},
   "outputs": [
    {
     "data": {
      "text/plain": [
       "3.078061451600862"
      ]
     },
     "execution_count": 126,
     "metadata": {},
     "output_type": "execute_result"
    }
   ],
   "source": [
    "odds= math.exp(1.1243)\n",
    "odds"
   ]
  },
  {
   "cell_type": "code",
   "execution_count": 129,
   "id": "7a1ee626",
   "metadata": {},
   "outputs": [
    {
     "data": {
      "text/plain": [
       "0.7547854509138294"
      ]
     },
     "execution_count": 129,
     "metadata": {},
     "output_type": "execute_result"
    }
   ],
   "source": [
    "p = odds/(1+odds)\n",
    "p"
   ]
  },
  {
   "cell_type": "code",
   "execution_count": 131,
   "id": "efe9aa5a",
   "metadata": {},
   "outputs": [
    {
     "data": {
      "text/plain": [
       "0.08392766349580283"
      ]
     },
     "execution_count": 131,
     "metadata": {},
     "output_type": "execute_result"
    }
   ],
   "source": [
    "math.exp(-2.4778)"
   ]
  },
  {
   "cell_type": "code",
   "execution_count": 139,
   "id": "77472b83",
   "metadata": {},
   "outputs": [
    {
     "data": {
      "text/plain": [
       "0.20529875367251643"
      ]
     },
     "execution_count": 139,
     "metadata": {},
     "output_type": "execute_result"
    }
   ],
   "source": [
    "x = odds*0.08392766349580283\n",
    "x = x/(1+x)\n",
    "x"
   ]
  },
  {
   "cell_type": "code",
   "execution_count": 141,
   "id": "6fb54564",
   "metadata": {},
   "outputs": [
    {
     "data": {
      "image/png": "[encoded data removed]",
      "text/plain": [
       "<Figure size 600x400 with 3 Axes>"
      ]
     },
     "metadata": {},
     "output_type": "display_data"
    }
   ],
   "source": [
    "plt.rcParams['figure.figsize']=(6, 4) \n",
    "mosaic(df, ['Survived', 'Sex'], gap = 0.04, title='Survived from Titanic')\n",
    "plt.show()"
   ]
  },
  {
   "cell_type": "code",
   "execution_count": null,
   "id": "21beadc7",
   "metadata": {},
   "outputs": [],
   "source": []
  },
  {
   "cell_type": "code",
   "execution_count": null,
   "id": "b0c32bd5",
   "metadata": {},
   "outputs": [],
   "source": []
  },
  {
   "cell_type": "code",
   "execution_count": null,
   "id": "f0cab993",
   "metadata": {},
   "outputs": [],
   "source": []
  },
  {
   "cell_type": "code",
   "execution_count": null,
   "id": "3b63e6c2",
   "metadata": {},
   "outputs": [],
   "source": []
  },
  {
   "cell_type": "code",
   "execution_count": null,
   "id": "dbabb92d",
   "metadata": {},
   "outputs": [],
   "source": []
  },
  {
   "cell_type": "code",
   "execution_count": null,
   "id": "1739ce2d",
   "metadata": {},
   "outputs": [],
   "source": []
  },
  {
   "cell_type": "code",
   "execution_count": null,
   "id": "05224f8d",
   "metadata": {},
   "outputs": [],
   "source": []
  },
  {
   "cell_type": "code",
   "execution_count": null,
   "id": "55e455ca",
   "metadata": {},
   "outputs": [],
   "source": []
  }
 ],
 "metadata": {
  "kernelspec": {
   "display_name": "Python 3 (ipykernel)",
   "language": "python",
   "name": "python3"
  },
  "language_info": {
   "codemirror_mode": {
    "name": "ipython",
    "version": 3
   },
   "file_extension": ".py",
   "mimetype": "text/x-python",
   "name": "python",
   "nbconvert_exporter": "python",
   "pygments_lexer": "ipython3",
   "version": "3.9.13"
  }
 },
 "nbformat": 4,
 "nbformat_minor": 5
}
