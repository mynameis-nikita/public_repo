{
 "cells": [
  {
   "cell_type": "markdown",
   "id": "6b47bef7",
   "metadata": {},
   "source": [
    "# Мини-проект к 3 уроку Демо курса \"Аналитик данных\". "
   ]
  },
  {
   "cell_type": "code",
   "execution_count": 2,
   "id": "2745135e",
   "metadata": {},
   "outputs": [],
   "source": [
    "import pandas as pd\n",
    "import numpy as np\n",
    "import matplotlib.pyplot as plt\n",
    "import seaborn as sns\n",
    "%matplotlib inline"
   ]
  },
  {
   "cell_type": "code",
   "execution_count": 9,
   "id": "de3acda8",
   "metadata": {},
   "outputs": [],
   "source": [
    "# задание содержит два датасета. Ссылки на данные записываем в соответствующие переменные\n",
    "user_data_path = \"https://stepik.org/media/attachments/lesson/360348/user_data.csv\"\n",
    "logs_path = 'https://stepik.org/media/attachments/lesson/360348/logs.csv'"
   ]
  },
  {
   "cell_type": "code",
   "execution_count": 31,
   "id": "e7932105",
   "metadata": {},
   "outputs": [],
   "source": [
    "# сохраняем данные в соответствующие переменные\n",
    "user_data = pd.read_csv(user_data_path, sep= ',')\n",
    "logs = pd.read_csv(logs_path, sep= ',')"
   ]
  },
  {
   "cell_type": "markdown",
   "id": "c74a4895",
   "metadata": {},
   "source": [
    "## 1. Знакомство с данными"
   ]
  },
  {
   "cell_type": "markdown",
   "id": "eba9866d",
   "metadata": {},
   "source": [
    "user_data:\n",
    "* client – идентификатор пользователя\n",
    "* premium – является ли клиент премиальным\n",
    "* age – возраст\n",
    "    \n",
    "logs:\n",
    "* client – идентификатор пользователя\n",
    "* success – результат (успех – 1, нет – 0)\n",
    "* platform – платформа\n",
    "* time – время в формате Unix"
   ]
  },
  {
   "cell_type": "markdown",
   "id": "c1b4e8bf",
   "metadata": {},
   "source": [
    "### 1.1 Обзор датасета user_data"
   ]
  },
  {
   "cell_type": "code",
   "execution_count": 39,
   "id": "4df48f20",
   "metadata": {
    "collapsed": true
   },
   "outputs": [
    {
     "data": {
      "text/html": [
       "<div>\n",
       "<style scoped>\n",
       "    .dataframe tbody tr th:only-of-type {\n",
       "        vertical-align: middle;\n",
       "    }\n",
       "\n",
       "    .dataframe tbody tr th {\n",
       "        vertical-align: top;\n",
       "    }\n",
       "\n",
       "    .dataframe thead th {\n",
       "        text-align: right;\n",
       "    }\n",
       "</style>\n",
       "<table border=\"1\" class=\"dataframe\">\n",
       "  <thead>\n",
       "    <tr style=\"text-align: right;\">\n",
       "      <th></th>\n",
       "      <th>client</th>\n",
       "      <th>premium</th>\n",
       "      <th>age</th>\n",
       "    </tr>\n",
       "  </thead>\n",
       "  <tbody>\n",
       "    <tr>\n",
       "      <th>0</th>\n",
       "      <td>46346</td>\n",
       "      <td>False</td>\n",
       "      <td>58</td>\n",
       "    </tr>\n",
       "    <tr>\n",
       "      <th>1</th>\n",
       "      <td>4391</td>\n",
       "      <td>False</td>\n",
       "      <td>55</td>\n",
       "    </tr>\n",
       "    <tr>\n",
       "      <th>2</th>\n",
       "      <td>27372</td>\n",
       "      <td>False</td>\n",
       "      <td>64</td>\n",
       "    </tr>\n",
       "    <tr>\n",
       "      <th>3</th>\n",
       "      <td>11989</td>\n",
       "      <td>False</td>\n",
       "      <td>44</td>\n",
       "    </tr>\n",
       "    <tr>\n",
       "      <th>4</th>\n",
       "      <td>60664</td>\n",
       "      <td>False</td>\n",
       "      <td>49</td>\n",
       "    </tr>\n",
       "  </tbody>\n",
       "</table>\n",
       "</div>"
      ],
      "text/plain": [
       "   client  premium  age\n",
       "0   46346    False   58\n",
       "1    4391    False   55\n",
       "2   27372    False   64\n",
       "3   11989    False   44\n",
       "4   60664    False   49"
      ]
     },
     "execution_count": 39,
     "metadata": {},
     "output_type": "execute_result"
    }
   ],
   "source": [
    "user_data.head() "
   ]
  },
  {
   "cell_type": "code",
   "execution_count": 32,
   "id": "80f4e85d",
   "metadata": {
    "collapsed": true
   },
   "outputs": [
    {
     "data": {
      "text/plain": [
       "Index(['client', 'premium', 'age'], dtype='object')"
      ]
     },
     "execution_count": 32,
     "metadata": {},
     "output_type": "execute_result"
    }
   ],
   "source": [
    "user_data.columns"
   ]
  },
  {
   "cell_type": "code",
   "execution_count": 44,
   "id": "837ca84d",
   "metadata": {
    "collapsed": true
   },
   "outputs": [
    {
     "data": {
      "text/plain": [
       "(2954, 3)"
      ]
     },
     "execution_count": 44,
     "metadata": {},
     "output_type": "execute_result"
    }
   ],
   "source": [
    "user_data.shape # - размер"
   ]
  },
  {
   "cell_type": "code",
   "execution_count": 47,
   "id": "b4d16a14",
   "metadata": {
    "collapsed": true
   },
   "outputs": [
    {
     "data": {
      "text/plain": [
       "client     int64\n",
       "premium     bool\n",
       "age        int64\n",
       "dtype: object"
      ]
     },
     "execution_count": 47,
     "metadata": {},
     "output_type": "execute_result"
    }
   ],
   "source": [
    "user_data.dtypes # - типы данных столбцов"
   ]
  },
  {
   "cell_type": "code",
   "execution_count": 46,
   "id": "71234e6c",
   "metadata": {
    "collapsed": true
   },
   "outputs": [
    {
     "data": {
      "text/plain": [
       "client     0\n",
       "premium    0\n",
       "age        0\n",
       "dtype: int64"
      ]
     },
     "execution_count": 46,
     "metadata": {},
     "output_type": "execute_result"
    }
   ],
   "source": [
    "user_data.isna().sum() # - проверка количества пустых (NaN) значений"
   ]
  },
  {
   "cell_type": "markdown",
   "id": "648f1f56",
   "metadata": {},
   "source": [
    "### 1.2 Обзор датасета logs"
   ]
  },
  {
   "cell_type": "code",
   "execution_count": 50,
   "id": "dbfc53fc",
   "metadata": {
    "collapsed": true
   },
   "outputs": [
    {
     "data": {
      "text/html": [
       "<div>\n",
       "<style scoped>\n",
       "    .dataframe tbody tr th:only-of-type {\n",
       "        vertical-align: middle;\n",
       "    }\n",
       "\n",
       "    .dataframe tbody tr th {\n",
       "        vertical-align: top;\n",
       "    }\n",
       "\n",
       "    .dataframe thead th {\n",
       "        text-align: right;\n",
       "    }\n",
       "</style>\n",
       "<table border=\"1\" class=\"dataframe\">\n",
       "  <thead>\n",
       "    <tr style=\"text-align: right;\">\n",
       "      <th></th>\n",
       "      <th>client</th>\n",
       "      <th>success</th>\n",
       "      <th>platform</th>\n",
       "      <th>time</th>\n",
       "    </tr>\n",
       "  </thead>\n",
       "  <tbody>\n",
       "    <tr>\n",
       "      <th>0</th>\n",
       "      <td>40177</td>\n",
       "      <td>True</td>\n",
       "      <td>phone</td>\n",
       "      <td>1585412212</td>\n",
       "    </tr>\n",
       "    <tr>\n",
       "      <th>1</th>\n",
       "      <td>61468</td>\n",
       "      <td>True</td>\n",
       "      <td>phone</td>\n",
       "      <td>1585425658</td>\n",
       "    </tr>\n",
       "    <tr>\n",
       "      <th>2</th>\n",
       "      <td>35604</td>\n",
       "      <td>False</td>\n",
       "      <td>phone</td>\n",
       "      <td>1585459894</td>\n",
       "    </tr>\n",
       "    <tr>\n",
       "      <th>3</th>\n",
       "      <td>9961</td>\n",
       "      <td>True</td>\n",
       "      <td>phone</td>\n",
       "      <td>1585400189</td>\n",
       "    </tr>\n",
       "    <tr>\n",
       "      <th>4</th>\n",
       "      <td>10931</td>\n",
       "      <td>True</td>\n",
       "      <td>computer</td>\n",
       "      <td>1585468629</td>\n",
       "    </tr>\n",
       "  </tbody>\n",
       "</table>\n",
       "</div>"
      ],
      "text/plain": [
       "   client  success  platform        time\n",
       "0   40177     True     phone  1585412212\n",
       "1   61468     True     phone  1585425658\n",
       "2   35604    False     phone  1585459894\n",
       "3    9961     True     phone  1585400189\n",
       "4   10931     True  computer  1585468629"
      ]
     },
     "execution_count": 50,
     "metadata": {},
     "output_type": "execute_result"
    }
   ],
   "source": [
    "logs.head()"
   ]
  },
  {
   "cell_type": "code",
   "execution_count": 36,
   "id": "f7ac1107",
   "metadata": {
    "collapsed": true
   },
   "outputs": [
    {
     "data": {
      "text/plain": [
       "Index(['client', 'success', 'platform', 'time'], dtype='object')"
      ]
     },
     "execution_count": 36,
     "metadata": {},
     "output_type": "execute_result"
    }
   ],
   "source": [
    "logs.columns"
   ]
  },
  {
   "cell_type": "code",
   "execution_count": 37,
   "id": "82ec6a0b",
   "metadata": {
    "collapsed": true
   },
   "outputs": [
    {
     "data": {
      "text/plain": [
       "(4500, 4)"
      ]
     },
     "execution_count": 37,
     "metadata": {},
     "output_type": "execute_result"
    }
   ],
   "source": [
    "logs.shape"
   ]
  },
  {
   "cell_type": "code",
   "execution_count": 38,
   "id": "a49d4b4b",
   "metadata": {
    "collapsed": true
   },
   "outputs": [
    {
     "data": {
      "text/plain": [
       "client       int64\n",
       "success       bool\n",
       "platform    object\n",
       "time         int64\n",
       "dtype: object"
      ]
     },
     "execution_count": 38,
     "metadata": {},
     "output_type": "execute_result"
    }
   ],
   "source": [
    "logs.dtypes"
   ]
  },
  {
   "cell_type": "code",
   "execution_count": 43,
   "id": "43da71cb",
   "metadata": {
    "collapsed": true
   },
   "outputs": [
    {
     "data": {
      "text/plain": [
       "client      0\n",
       "success     0\n",
       "platform    0\n",
       "time        0\n",
       "dtype: int64"
      ]
     },
     "execution_count": 43,
     "metadata": {},
     "output_type": "execute_result"
    }
   ],
   "source": [
    "logs.isna().sum()"
   ]
  },
  {
   "cell_type": "code",
   "execution_count": 51,
   "id": "ebf924fe",
   "metadata": {},
   "outputs": [
    {
     "data": {
      "text/plain": [
       "3"
      ]
     },
     "execution_count": 51,
     "metadata": {},
     "output_type": "execute_result"
    }
   ],
   "source": [
    "logs.platform.nunique() # - кол-во уникальных значений Платформ в logs "
   ]
  },
  {
   "cell_type": "markdown",
   "id": "fed35c03",
   "metadata": {},
   "source": [
    "## 2. Какой клиент совершил больше всего успешных операций?\n",
    "Если таких пользователей несколько, перечислите их идентификаторы (client). \n",
    "* client – идентификатор пользователя\n",
    "* success – результат (успех – 1, нет – 0)"
   ]
  },
  {
   "cell_type": "code",
   "execution_count": 254,
   "id": "ff78d52b",
   "metadata": {},
   "outputs": [
    {
     "data": {
      "text/plain": [
       "28719    41\n",
       "52870    41\n",
       "61468    41\n",
       "61473    41\n",
       "12179    41\n",
       "         ..\n",
       "70028     1\n",
       "37123     1\n",
       "73522     1\n",
       "38359     1\n",
       "40921     1\n",
       "Name: client, Length: 2845, dtype: int64"
      ]
     },
     "execution_count": 254,
     "metadata": {},
     "output_type": "execute_result"
    }
   ],
   "source": [
    "# - считаем число успешных операций по каждому клиенту\n",
    "success_counts = (\n",
    "    logs \n",
    "        .query('success == 1') # - фильтр по успешным операциям\n",
    "        .client # - только столбец с id клиента\n",
    "        .value_counts() # - кол-во строк для каждого клиента  \n",
    ")\n",
    "\n",
    "success_counts"
   ]
  },
  {
   "cell_type": "code",
   "execution_count": 170,
   "id": "b8a3f01f",
   "metadata": {
    "collapsed": true
   },
   "outputs": [
    {
     "data": {
      "text/plain": [
       "41"
      ]
     },
     "execution_count": 170,
     "metadata": {},
     "output_type": "execute_result"
    }
   ],
   "source": [
    "# - максимальное кол-во успешных операций \n",
    "max_success = success_counts.max()\n",
    "max_success"
   ]
  },
  {
   "cell_type": "code",
   "execution_count": 176,
   "id": "f849e1c3",
   "metadata": {},
   "outputs": [
    {
     "data": {
      "text/plain": [
       "Int64Index([12179, 28719, 36165, 52870, 61468, 61473, 78349, 82563, 92584], dtype='int64')"
      ]
     },
     "execution_count": 176,
     "metadata": {},
     "output_type": "execute_result"
    }
   ],
   "source": [
    "# - фильтр по максимальному кол-ву успешных операций \n",
    "max_success_users = (success_counts.loc[success_counts == max_success])\n",
    "# - в полученном Series id клиента (client) является индексом. \n",
    "# - Выбираем только индекс и сортируем по возрастанию\n",
    "max_success_users.index.sort_values()"
   ]
  },
  {
   "cell_type": "markdown",
   "id": "7350cd87",
   "metadata": {},
   "source": [
    "## 3. С какой платформы было совершено наибольшее количество успешных операций?"
   ]
  },
  {
   "cell_type": "code",
   "execution_count": 173,
   "id": "ed14e1db",
   "metadata": {
    "collapsed": true
   },
   "outputs": [
    {
     "data": {
      "text/plain": [
       "phone       2019\n",
       "computer    1090\n",
       "tablet       180\n",
       "Name: platform, dtype: int64"
      ]
     },
     "execution_count": 173,
     "metadata": {},
     "output_type": "execute_result"
    }
   ],
   "source": [
    "success_counts_platform = (\n",
    "    logs \n",
    "        .query('success == 1') # - фильтр по успешным операциям\n",
    "        .platform # - только столбец с id клиента\n",
    "        .value_counts() # - кол-во строк для каждого клиента\n",
    ")\n",
    "success_counts_platform"
   ]
  },
  {
   "cell_type": "code",
   "execution_count": 174,
   "id": "a98f8949",
   "metadata": {},
   "outputs": [
    {
     "data": {
      "text/plain": [
       "'phone'"
      ]
     },
     "execution_count": 174,
     "metadata": {},
     "output_type": "execute_result"
    }
   ],
   "source": [
    "# - .idxmax() - выводит индекс строки с максимальным значением\n",
    "success_counts_platform.idxmax()"
   ]
  },
  {
   "cell_type": "markdown",
   "id": "8a7729e5",
   "metadata": {},
   "source": [
    "## 4. Какая платформа наиболее популярна среди премиумных клиентов?"
   ]
  },
  {
   "cell_type": "code",
   "execution_count": 184,
   "id": "f08147ea",
   "metadata": {},
   "outputs": [],
   "source": [
    "# - premium - опеределяет Премиальный статус клиента. В датасете - user_data\n",
    "# - platform - находится в датасете - logs\n",
    "# - соответственно требуется объединение (.merge) df"
   ]
  },
  {
   "cell_type": "code",
   "execution_count": 235,
   "id": "7460db99",
   "metadata": {
    "scrolled": true
   },
   "outputs": [],
   "source": [
    "merged_users_logs = user_data.merge(logs, on = 'client' )"
   ]
  },
  {
   "cell_type": "code",
   "execution_count": 236,
   "id": "c3fdbcef",
   "metadata": {
    "collapsed": true
   },
   "outputs": [
    {
     "data": {
      "text/html": [
       "<div>\n",
       "<style scoped>\n",
       "    .dataframe tbody tr th:only-of-type {\n",
       "        vertical-align: middle;\n",
       "    }\n",
       "\n",
       "    .dataframe tbody tr th {\n",
       "        vertical-align: top;\n",
       "    }\n",
       "\n",
       "    .dataframe thead th {\n",
       "        text-align: right;\n",
       "    }\n",
       "</style>\n",
       "<table border=\"1\" class=\"dataframe\">\n",
       "  <thead>\n",
       "    <tr style=\"text-align: right;\">\n",
       "      <th></th>\n",
       "      <th>client</th>\n",
       "      <th>premium</th>\n",
       "      <th>age</th>\n",
       "      <th>success</th>\n",
       "      <th>platform</th>\n",
       "      <th>time</th>\n",
       "    </tr>\n",
       "  </thead>\n",
       "  <tbody>\n",
       "    <tr>\n",
       "      <th>0</th>\n",
       "      <td>46346</td>\n",
       "      <td>False</td>\n",
       "      <td>58</td>\n",
       "      <td>True</td>\n",
       "      <td>phone</td>\n",
       "      <td>1585452839</td>\n",
       "    </tr>\n",
       "    <tr>\n",
       "      <th>1</th>\n",
       "      <td>4391</td>\n",
       "      <td>False</td>\n",
       "      <td>55</td>\n",
       "      <td>False</td>\n",
       "      <td>phone</td>\n",
       "      <td>1585409861</td>\n",
       "    </tr>\n",
       "    <tr>\n",
       "      <th>2</th>\n",
       "      <td>27372</td>\n",
       "      <td>False</td>\n",
       "      <td>64</td>\n",
       "      <td>False</td>\n",
       "      <td>phone</td>\n",
       "      <td>1585446018</td>\n",
       "    </tr>\n",
       "    <tr>\n",
       "      <th>3</th>\n",
       "      <td>11989</td>\n",
       "      <td>False</td>\n",
       "      <td>44</td>\n",
       "      <td>True</td>\n",
       "      <td>computer</td>\n",
       "      <td>1585403698</td>\n",
       "    </tr>\n",
       "    <tr>\n",
       "      <th>4</th>\n",
       "      <td>60664</td>\n",
       "      <td>False</td>\n",
       "      <td>49</td>\n",
       "      <td>True</td>\n",
       "      <td>phone</td>\n",
       "      <td>1585406918</td>\n",
       "    </tr>\n",
       "    <tr>\n",
       "      <th>...</th>\n",
       "      <td>...</td>\n",
       "      <td>...</td>\n",
       "      <td>...</td>\n",
       "      <td>...</td>\n",
       "      <td>...</td>\n",
       "      <td>...</td>\n",
       "    </tr>\n",
       "    <tr>\n",
       "      <th>3434</th>\n",
       "      <td>19411</td>\n",
       "      <td>False</td>\n",
       "      <td>29</td>\n",
       "      <td>True</td>\n",
       "      <td>phone</td>\n",
       "      <td>1585400902</td>\n",
       "    </tr>\n",
       "    <tr>\n",
       "      <th>3435</th>\n",
       "      <td>61579</td>\n",
       "      <td>False</td>\n",
       "      <td>50</td>\n",
       "      <td>True</td>\n",
       "      <td>phone</td>\n",
       "      <td>1585436158</td>\n",
       "    </tr>\n",
       "    <tr>\n",
       "      <th>3436</th>\n",
       "      <td>61221</td>\n",
       "      <td>True</td>\n",
       "      <td>64</td>\n",
       "      <td>True</td>\n",
       "      <td>phone</td>\n",
       "      <td>1585440218</td>\n",
       "    </tr>\n",
       "    <tr>\n",
       "      <th>3437</th>\n",
       "      <td>29863</td>\n",
       "      <td>False</td>\n",
       "      <td>46</td>\n",
       "      <td>True</td>\n",
       "      <td>tablet</td>\n",
       "      <td>1585443437</td>\n",
       "    </tr>\n",
       "    <tr>\n",
       "      <th>3438</th>\n",
       "      <td>78499</td>\n",
       "      <td>False</td>\n",
       "      <td>36</td>\n",
       "      <td>False</td>\n",
       "      <td>phone</td>\n",
       "      <td>1585425483</td>\n",
       "    </tr>\n",
       "  </tbody>\n",
       "</table>\n",
       "<p>3439 rows × 6 columns</p>\n",
       "</div>"
      ],
      "text/plain": [
       "      client  premium  age  success  platform        time\n",
       "0      46346    False   58     True     phone  1585452839\n",
       "1       4391    False   55    False     phone  1585409861\n",
       "2      27372    False   64    False     phone  1585446018\n",
       "3      11989    False   44     True  computer  1585403698\n",
       "4      60664    False   49     True     phone  1585406918\n",
       "...      ...      ...  ...      ...       ...         ...\n",
       "3434   19411    False   29     True     phone  1585400902\n",
       "3435   61579    False   50     True     phone  1585436158\n",
       "3436   61221     True   64     True     phone  1585440218\n",
       "3437   29863    False   46     True    tablet  1585443437\n",
       "3438   78499    False   36    False     phone  1585425483\n",
       "\n",
       "[3439 rows x 6 columns]"
      ]
     },
     "execution_count": 236,
     "metadata": {},
     "output_type": "execute_result"
    }
   ],
   "source": [
    "merged_users_logs"
   ]
  },
  {
   "cell_type": "code",
   "execution_count": 238,
   "id": "ace75c8b",
   "metadata": {},
   "outputs": [
    {
     "data": {
      "text/plain": [
       "'phone'"
      ]
     },
     "execution_count": 238,
     "metadata": {},
     "output_type": "execute_result"
    }
   ],
   "source": [
    "top_platform_for_premium = (\n",
    "    merged_users_logs\n",
    "        .loc[merged_users_logs.premium == True]\n",
    "        .platform\n",
    "        .value_counts()\n",
    "        .idxmax()\n",
    ")\n",
    "\n",
    "top_platform_for_premium "
   ]
  },
  {
   "cell_type": "markdown",
   "id": "4b6a1fb7",
   "metadata": {},
   "source": [
    "## 5. Визуализируйте распределение возраста клиентов в зависимости от типа клиента (премиум или нет)"
   ]
  },
  {
   "cell_type": "code",
   "execution_count": 213,
   "id": "92db360f",
   "metadata": {},
   "outputs": [],
   "source": [
    "non_premium_users = user_data.loc[user_data.premium == False]\n",
    "non_premium_users"
   ]
  },
  {
   "cell_type": "code",
   "execution_count": 241,
   "id": "e752d518",
   "metadata": {
    "scrolled": false
   },
   "outputs": [
    {
     "data": {
      "text/plain": [
       "<seaborn.axisgrid.FacetGrid at 0x1caab3b9fc0>"
      ]
     },
     "execution_count": 241,
     "metadata": {},
     "output_type": "execute_result"
    },
    {
     "data": {
      "image/png": "[encoded data removed]",
      "text/plain": [
       "<Figure size 421.25x360 with 1 Axes>"
      ]
     },
     "metadata": {
      "needs_background": "light"
     },
     "output_type": "display_data"
    }
   ],
   "source": [
    "#sns.displot(non_premium_users.age)\n",
    "sns.displot(\n",
    "    data = merged_users_logs, \n",
    "            x = 'age', \n",
    "            hue='premium', \n",
    "            kde = True, \n",
    "            kind='hist', \n",
    "            stat = 'density', \n",
    "            common_norm =False,\n",
    "            bins=14\n",
    ")"
   ]
  },
  {
   "cell_type": "markdown",
   "id": "381764a4",
   "metadata": {},
   "source": [
    "## 6. Постройте график распределения числа успешных операций: \n",
    "* x – число успешных операций\n",
    "* y – число клиентов, совершивших такое количество успешных операций"
   ]
  },
  {
   "cell_type": "code",
   "execution_count": 290,
   "id": "41261c5f",
   "metadata": {},
   "outputs": [
    {
     "data": {
      "text/plain": [
       "28719    41\n",
       "52870    41\n",
       "61468    41\n",
       "61473    41\n",
       "12179    41\n",
       "         ..\n",
       "70028     1\n",
       "37123     1\n",
       "73522     1\n",
       "38359     1\n",
       "40921     1\n",
       "Name: successful, Length: 2845, dtype: int64"
      ]
     },
     "execution_count": 290,
     "metadata": {},
     "output_type": "execute_result"
    }
   ],
   "source": [
    "success_distrib = (logs.loc[logs.success == True]\n",
    "        .client\n",
    "        .value_counts()\n",
    "        .rename('successful')\n",
    ")\n",
    "success_distrib"
   ]
  },
  {
   "cell_type": "code",
   "execution_count": 305,
   "id": "57be77a2",
   "metadata": {},
   "outputs": [
    {
     "name": "stderr",
     "output_type": "stream",
     "text": [
      "C:\\Users\\Rf123064\\AppData\\Local\\Packages\\PythonSoftwareFoundation.Python.3.10_qbz5n2kfra8p0\\LocalCache\\local-packages\\Python310\\site-packages\\seaborn\\_decorators.py:36: FutureWarning: Pass the following variable as a keyword arg: x. From version 0.12, the only valid positional argument will be `data`, and passing other arguments without an explicit keyword will result in an error or misinterpretation.\n",
      "  warnings.warn(\n"
     ]
    },
    {
     "data": {
      "text/plain": [
       "<AxesSubplot:xlabel='successful', ylabel='count'>"
      ]
     },
     "execution_count": 305,
     "metadata": {},
     "output_type": "execute_result"
    },
    {
     "data": {
      "image/png": "[encoded data removed]",
      "text/plain": [
       "<Figure size 432x288 with 1 Axes>"
      ]
     },
     "metadata": {
      "needs_background": "light"
     },
     "output_type": "display_data"
    }
   ],
   "source": [
    "sns.countplot(success_distrib)"
   ]
  },
  {
   "cell_type": "code",
   "execution_count": 316,
   "id": "cdec6a7f",
   "metadata": {},
   "outputs": [],
   "source": [
    "age_dist_computer = (\n",
    "    merged_users_logs\n",
    "        .loc[logs.success == True]\n",
    "        .loc[logs.platform == \"computer\"]\n",
    ")"
   ]
  },
  {
   "cell_type": "code",
   "execution_count": 317,
   "id": "b148c885",
   "metadata": {},
   "outputs": [
    {
     "name": "stderr",
     "output_type": "stream",
     "text": [
      "C:\\Users\\Rf123064\\AppData\\Local\\Packages\\PythonSoftwareFoundation.Python.3.10_qbz5n2kfra8p0\\LocalCache\\local-packages\\Python310\\site-packages\\seaborn\\_decorators.py:36: FutureWarning: Pass the following variable as a keyword arg: x. From version 0.12, the only valid positional argument will be `data`, and passing other arguments without an explicit keyword will result in an error or misinterpretation.\n",
      "  warnings.warn(\n"
     ]
    },
    {
     "data": {
      "text/plain": [
       "<AxesSubplot:xlabel='age', ylabel='count'>"
      ]
     },
     "execution_count": 317,
     "metadata": {},
     "output_type": "execute_result"
    },
    {
     "data": {
      "image/png": "[encoded data removed]",
      "text/plain": [
       "<Figure size 864x576 with 1 Axes>"
      ]
     },
     "metadata": {
      "needs_background": "light"
     },
     "output_type": "display_data"
    }
   ],
   "source": [
    "plt.figure(figsize=(12, 8))\n",
    "sns.countplot(age_dist_computer.age)"
   ]
  }
 ],
 "metadata": {
  "kernelspec": {
   "display_name": "Python 3 (ipykernel)",
   "language": "python",
   "name": "python3"
  },
  "language_info": {
   "codemirror_mode": {
    "name": "ipython",
    "version": 3
   },
   "file_extension": ".py",
   "mimetype": "text/x-python",
   "name": "python",
   "nbconvert_exporter": "python",
   "pygments_lexer": "ipython3",
   "version": "3.9.13"
  }
 },
 "nbformat": 4,
 "nbformat_minor": 5
}
