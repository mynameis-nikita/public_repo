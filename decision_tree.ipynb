{
 "cells": [
  {
   "cell_type": "markdown",
   "id": "8f251dcb",
   "metadata": {},
   "source": [
    "<img src = 'https://imageup.ru/img123/4112832/snimok-ekrana-2022-12-14-v-105943.jpg' width='1500' margins='0' >"
   ]
  },
  {
   "cell_type": "code",
   "execution_count": 1,
   "id": "e12fe0fb",
   "metadata": {},
   "outputs": [],
   "source": [
    "import pandas as pd\n",
    "import numpy as np\n",
    "import math\n",
    "\n",
    "#Библиотеки для вывода Графиков\n",
    "import matplotlib.pyplot as plt\n",
    "import seaborn as sns\n",
    "%matplotlib inline\n",
    "\n",
    "from sklearn.tree import plot_tree\n",
    "from sklearn.datasets import load_iris\n",
    "from sklearn.tree import DecisionTreeClassifier\n",
    "from sklearn.tree import export_graphviz\n",
    "from sklearn.tree import DecisionTreeRegressor\n",
    "from sklearn.model_selection import train_test_split\n",
    "from sklearn.metrics import accuracy_score\n",
    "import graphviz"
   ]
  },
  {
   "cell_type": "markdown",
   "id": "388a1638",
   "metadata": {},
   "source": [
    "1. Определение\n",
    "2. Жадный поиск\n",
    "3. Энтропия. Проблема и решение\n",
    "4. Гиперпараметры\n",
    "5. Плюсы и минусы\n",
    "6. Применение"
   ]
  },
  {
   "cell_type": "markdown",
   "id": "d45b337c",
   "metadata": {},
   "source": [
    "# 1. Определение\n"
   ]
  },
  {
   "cell_type": "markdown",
   "id": "ec11059f",
   "metadata": {},
   "source": [
    "Решающее дерево - это разновидность логического алгоритма"
   ]
  },
  {
   "cell_type": "markdown",
   "id": "2dbdacfe",
   "metadata": {},
   "source": [
    "Дерево решений представляет собой иерархическую древовидную структуру, состоящую из правила вида «Если …, то ...». Модели хороши наглядностью принятия решений, потому что правила легко выразить естественным языком"
   ]
  },
  {
   "cell_type": "markdown",
   "id": "6fb7cf2a",
   "metadata": {},
   "source": [
    "Дерево состоит из: \n",
    "* Узлов (Nodes), содержащих некое правило и\n",
    "* Листьев (Leafs), содержащих множество решений, удовлетворяющих всем условиям в ветке до данного листа"
   ]
  },
  {
   "cell_type": "markdown",
   "id": "27056143",
   "metadata": {},
   "source": [
    "Узел становится листом в двух случаях:\n",
    "1. естественным образом — когда он содержит единственный объект или объект только одного класса;\n",
    "2. после достижения заданного условия остановки алгоритм — например, минимально допустимое число примеров в узле или максимальная глубина дерева."
   ]
  },
  {
   "cell_type": "markdown",
   "id": "b3702f5f",
   "metadata": {},
   "source": [
    "В основе построения лежат «жадные» алгоритмы\n",
    "То есть при выборе одного атрибута и произведении разбиения по нему на подмножества, алгоритм не может вернуться назад и выбрать другой атрибут, даже если это даст лучшее итоговое разбиение."
   ]
  },
  {
   "cell_type": "markdown",
   "id": "d1c2e285",
   "metadata": {},
   "source": [
    "https://www.youtube.com/watch?v=H-xIuocK4oY"
   ]
  },
  {
   "cell_type": "markdown",
   "id": "fe5e6600",
   "metadata": {},
   "source": [
    "__курс от ФКН ВШЭ__"
   ]
  },
  {
   "cell_type": "markdown",
   "id": "9e9f9f70",
   "metadata": {},
   "source": [
    "# 2. Жадный алгоритм"
   ]
  },
  {
   "cell_type": "markdown",
   "id": "efdfcb3f",
   "metadata": {},
   "source": [
    "Жадный алгоритм:\n",
    "1. Поместить в корень всю выборку R1=X\n",
    "2. Запустить построение из корня: SplitNode(1,R1)\n",
    "\n",
    "SplitNode(m,Rm)\n",
    "1. Если выполнен критерий останова, то выход\n",
    "2. Ищем лучший предикат: j,t=arg min Q(Rm,j,t)\n",
    "3. Разбиваем с его помощью объекты на Rl и Rr\n",
    "4. Повторяем для дочерних вершин: SplitNode Rl и SplitNode Rr"
   ]
  },
  {
   "cell_type": "markdown",
   "id": "8f519d96",
   "metadata": {},
   "source": [
    "Сплит для номинативных данных делается для каждого уникального значения"
   ]
  },
  {
   "cell_type": "markdown",
   "id": "4d16fe29",
   "metadata": {},
   "source": [
    "# 3. Энтропия"
   ]
  },
  {
   "cell_type": "markdown",
   "id": "b42842f1",
   "metadata": {},
   "source": [
    "Энтропия:"
   ]
  },
  {
   "cell_type": "markdown",
   "id": "45aa872c",
   "metadata": {},
   "source": [
    "$$E = -\\sum_{i=1}^n p_i*log_{2}p_i$$"
   ]
  },
  {
   "cell_type": "markdown",
   "id": "4eacb0e7",
   "metadata": {},
   "source": [
    "Information Gain:"
   ]
  },
  {
   "cell_type": "markdown",
   "id": "018e8c97",
   "metadata": {},
   "source": [
    "<img src='https://habrastorage.org/getpro/habr/upload_files/bb3/254/c96/bb3254c9626a88d5210568d3dc6549f8' width=300 >"
   ]
  },
  {
   "cell_type": "markdown",
   "id": "c1141660",
   "metadata": {},
   "source": [
    "где Info(S) — информация до разбиения, Info(Sa) — информация при разбиении атрибута A."
   ]
  },
  {
   "cell_type": "markdown",
   "id": "06408295",
   "metadata": {},
   "source": [
    "Проблема критериев заключается в том, что он показывает лучшую энтропию в случае выраженного дисбаланса классов."
   ]
  },
  {
   "cell_type": "markdown",
   "id": "bb2b07f0",
   "metadata": {},
   "source": [
    "#### Пример\n",
    "ББББББ ЧЧЧЧЧЧ\n",
    "\n",
    "* 1 разделение: БББББЧ      ___  БЧЧЧЧЧ\n",
    "* 2 разделение: ББББББЧЧЧЧЧ  ___ Ч"
   ]
  },
  {
   "cell_type": "code",
   "execution_count": 131,
   "id": "d97c0fdf",
   "metadata": {},
   "outputs": [],
   "source": [
    "def enthropy (n0, n1):\n",
    "    return -sum((n0 * math.log2(n0), (n1 * math.log2(n1))))    "
   ]
  },
  {
   "cell_type": "code",
   "execution_count": 132,
   "id": "fb7814b7",
   "metadata": {},
   "outputs": [
    {
     "data": {
      "text/plain": [
       "1.0"
      ]
     },
     "execution_count": 132,
     "metadata": {},
     "output_type": "execute_result"
    }
   ],
   "source": [
    "enthropy(6/12, 6/12)"
   ]
  },
  {
   "cell_type": "code",
   "execution_count": 133,
   "id": "0d5f8124",
   "metadata": {
    "scrolled": true
   },
   "outputs": [
    {
     "data": {
      "text/plain": [
       "1.3000448432967082"
      ]
     },
     "execution_count": 133,
     "metadata": {},
     "output_type": "execute_result"
    }
   ],
   "source": [
    "enthropy(5/6, 1/6) + enthropy(1/6, 5/6)"
   ]
  },
  {
   "cell_type": "code",
   "execution_count": 134,
   "id": "8aec9176",
   "metadata": {},
   "outputs": [
    {
     "data": {
      "text/plain": [
       "0.9940302114769565"
      ]
     },
     "execution_count": 134,
     "metadata": {},
     "output_type": "execute_result"
    }
   ],
   "source": [
    "enthropy(6/11, 5/11) + enthropy(1,1)"
   ]
  },
  {
   "cell_type": "markdown",
   "id": "76dacb1b",
   "metadata": {},
   "source": [
    "#### Критерий информативности"
   ]
  },
  {
   "cell_type": "markdown",
   "id": "8549aa85",
   "metadata": {},
   "source": [
    "Добавляет коэффициент веса для балансировки размеров результирующих подмножеств"
   ]
  },
  {
   "cell_type": "code",
   "execution_count": 135,
   "id": "6790ff55",
   "metadata": {},
   "outputs": [
    {
     "data": {
      "text/plain": [
       "0.6500224216483541"
      ]
     },
     "execution_count": 135,
     "metadata": {},
     "output_type": "execute_result"
    }
   ],
   "source": [
    "(6/12) * enthropy(5/6, 1/6) + (6/12) * enthropy(1/6, 5/6)"
   ]
  },
  {
   "cell_type": "code",
   "execution_count": 136,
   "id": "d2c3fa0e",
   "metadata": {},
   "outputs": [
    {
     "data": {
      "text/plain": [
       "0.9111943605205434"
      ]
     },
     "execution_count": 136,
     "metadata": {},
     "output_type": "execute_result"
    }
   ],
   "source": [
    "(11/12) * enthropy(6/11, 5/11) + 1 * enthropy(1,1)"
   ]
  },
  {
   "cell_type": "markdown",
   "id": "b65e0d87",
   "metadata": {},
   "source": [
    "# 4. Гиперпараметры"
   ]
  },
  {
   "cell_type": "markdown",
   "id": "3e6d45f0",
   "metadata": {},
   "source": [
    "criterion='gini',\n",
    "    splitter='best',\n",
    "    max_depth=None,\n",
    "    min_samples_split=2,\n",
    "    min_samples_leaf=1,\n",
    "    max_leaf_nodes=None,\n",
    "    min_impurity_decrease=0.0"
   ]
  },
  {
   "cell_type": "markdown",
   "id": "72cd237f",
   "metadata": {},
   "source": [
    "Гиперпараметры применяются для устранения проблемы переобучения. Они позволяют устанавливать пределы обучения дерева с помощью указания максимальной глубины ветвления или минимального кол-ва объектов в каждом листе"
   ]
  },
  {
   "cell_type": "markdown",
   "id": "8f1afd77",
   "metadata": {},
   "source": [
    "# 5. Плюсы и минусы"
   ]
  },
  {
   "cell_type": "markdown",
   "id": "b3da53ca",
   "metadata": {},
   "source": [
    "Преимущества:\n",
    "* Формируют четкие и понятные правила классификации. То есть деревья решений хорошо и быстро интерпретируются.\n",
    "* Способны генерировать правила в областях, где специалисту трудно формализовать свои знания.\n",
    "* Легко визуализируются, то есть могут «интерпретироваться» не только как модель в целом, но и как прогноз для отдельного тестового субъекта (путь в дереве).\n",
    "* Быстро обучаются и прогнозируют.\n",
    "* Не требуется много параметров модели.\n",
    "* Поддерживают как числовые, так и категориальные признаки.\n",
    "\n",
    "Недостатки:\n",
    "* Деревья решений чувствительны к шумам во входных данных. Небольшие изменения обучающей выборки могут привести к глобальным корректировкам модели, что скажется на смене правил классификации и интерпретируемости модели.\n",
    "* Разделяющая граница имеет определенные ограничения, из-за чего дерево решений по качеству классификации уступает другим методам.\n",
    "* Возможно переобучение дерева решений, из-за чего приходится прибегать к методу «отсечения ветвей», установке минимального числа элементов в листьях дерева или максимальной глубины дерева.\n",
    "* Сложный поиск оптимального дерева решений: это приводит к необходимости использования эвристики типа жадного поиска признака с максимальным приростом информации, которые в конечном итоге не дают 100-процентной гарантии нахождения оптимального дерева.\n",
    "* Дерево решений делает константный прогноз для объектов, находящихся в признаковом пространстве вне параллелепипеда, который охватывает не все объекты обучающей выборки./"
   ]
  },
  {
   "cell_type": "markdown",
   "id": "9111f157",
   "metadata": {},
   "source": [
    "# 6. Применение"
   ]
  },
  {
   "cell_type": "markdown",
   "id": "a9a362c2",
   "metadata": {},
   "source": [
    "Успешнее всего деревья применяют в следующих областях:\n",
    "* Банковское дело. Оценка кредитоспособности клиентов банка при выдаче кредитов.\n",
    "* Промышленность. Контроль качества продукции (обнаружение дефектов в готовых товарах), испытания без нарушений (например, проверка качества сварки) и т.п.\n",
    "* Медицина. Диагностика заболеваний разной сложности.\n",
    "* Молекулярная биология. Анализ строения аминокислот.\n",
    "* Торговля. Классификация клиентов и товар."
   ]
  },
  {
   "cell_type": "markdown",
   "id": "79443c0f",
   "metadata": {},
   "source": [
    "_______________________________"
   ]
  }
 ],
 "metadata": {
  "kernelspec": {
   "display_name": "Python 3 (ipykernel)",
   "language": "python",
   "name": "python3"
  },
  "language_info": {
   "codemirror_mode": {
    "name": "ipython",
    "version": 3
   },
   "file_extension": ".py",
   "mimetype": "text/x-python",
   "name": "python",
   "nbconvert_exporter": "python",
   "pygments_lexer": "ipython3",
   "version": "3.9.13"
  }
 },
 "nbformat": 4,
 "nbformat_minor": 5
}
