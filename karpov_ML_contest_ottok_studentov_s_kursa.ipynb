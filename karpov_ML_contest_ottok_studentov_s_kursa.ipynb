{
 "cells": [
  {
   "attachments": {
    "exit.jpeg": {
     "image/jpeg": "[encoded data removed]"
    }
   },
   "cell_type": "markdown",
   "id": "8f1359dc",
   "metadata": {},
   "source": [
    "![exit.jpeg](attachment:exit.jpeg)"
   ]
  },
  {
   "cell_type": "markdown",
   "id": "255912f9",
   "metadata": {},
   "source": [
    "# ML stepik contest"
   ]
  },
  {
   "cell_type": "markdown",
   "id": "52bb6fae",
   "metadata": {},
   "source": [
    "## Задача: "
   ]
  },
  {
   "cell_type": "markdown",
   "id": "5cd8e8fb",
   "metadata": {},
   "source": [
    "Анализ оттока студентов с курса \"Программирование на языке R\" на платформе Stepik. Научиться на ранних этапах определять бросит ли ученик курс или нет"
   ]
  },
  {
   "cell_type": "markdown",
   "id": "a96d8ee4",
   "metadata": {},
   "source": [
    "## Описание данных "
   ]
  },
  {
   "cell_type": "markdown",
   "id": "ea0d1be6",
   "metadata": {},
   "source": [
    "events_train.csv - данные о действиях, которые совершают студенты со стэпами\n",
    "* step_id - id стэпа. \n",
    "* user_id - анонимизированный id юзера\n",
    "* timestamp - время наступления события в формате unix date\n",
    "* action - событие \n",
    "\n",
    "    action может быть:\n",
    "* discovered - пользователь перешел на стэп\n",
    "* viewed - просмотр шага,\n",
    "* started_attempt - начало попытки решить шаг, нужно было нажать на кнопку - начать решение, перед тем как приступить к решению практического шага\n",
    "* passed - удачное решение практического шага\n",
    "\n",
    "submissions_train.csv - данные о времени и статусах сабмитов к практическим заданиям\n",
    "* timestamp - время отправки решения в формате unix date\n",
    "* submission_status - статус решения\n"
   ]
  },
  {
   "cell_type": "markdown",
   "id": "d03df755",
   "metadata": {},
   "source": [
    "## Этапы проекта\n",
    "\n",
    "1. Обзор и предварительный анализ данных\n",
    "2. Исследовательский анализ данных и предобработка\n",
    "3. Модель и кросс-валидация\n",
    "4. Подготовка ответа по тестовой выборке\n",
    "5. Выводы по работе с данными"
   ]
  },
  {
   "cell_type": "markdown",
   "id": "01c8e368",
   "metadata": {},
   "source": [
    "# 1. Обзор и предварительный анализ данных "
   ]
  },
  {
   "cell_type": "code",
   "execution_count": 9,
   "id": "14a52fe1",
   "metadata": {},
   "outputs": [],
   "source": [
    "import pandas as pd\n",
    "import numpy as np\n",
    "\n",
    "%matplotlib inline\n",
    "import matplotlib.pyplot as plt\n",
    "import seaborn as sns\n",
    "\n",
    "from sklearn.model_selection import train_test_split\n",
    "from sklearn.model_selection import GridSearchCV\n",
    "from sklearn.tree import DecisionTreeClassifier\n",
    "from sklearn.metrics import confusion_matrix\n",
    "from sklearn.metrics import ConfusionMatrixDisplay\n",
    "from sklearn.metrics import classification_report"
   ]
  },
  {
   "cell_type": "code",
   "execution_count": 10,
   "id": "2928cc1d",
   "metadata": {},
   "outputs": [],
   "source": [
    "# Загрузка данных с логами действий студентов курса\n",
    "eve_data_path = '/Users/nikita/Desktop/python_projects/ml_stepik_contest_data/event_data_train.csv'\n",
    "events_data = pd.read_csv(eve_data_path)"
   ]
  },
  {
   "cell_type": "code",
   "execution_count": 11,
   "id": "f8873f69",
   "metadata": {},
   "outputs": [],
   "source": [
    "# Загрузка данных о времени и статусах сабмитов к практическим заданиям\n",
    "sub_data_path = '/Users/nikita/Desktop/python_projects/ml_stepik_contest_data/submissions_data_train.csv'\n",
    "submissions_data = pd.read_csv(sub_data_path)"
   ]
  },
  {
   "cell_type": "code",
   "execution_count": 12,
   "id": "60e4bb57",
   "metadata": {},
   "outputs": [
    {
     "data": {
      "text/html": [
       "<div>\n",
       "<style scoped>\n",
       "    .dataframe tbody tr th:only-of-type {\n",
       "        vertical-align: middle;\n",
       "    }\n",
       "\n",
       "    .dataframe tbody tr th {\n",
       "        vertical-align: top;\n",
       "    }\n",
       "\n",
       "    .dataframe thead th {\n",
       "        text-align: right;\n",
       "    }\n",
       "</style>\n",
       "<table border=\"1\" class=\"dataframe\">\n",
       "  <thead>\n",
       "    <tr style=\"text-align: right;\">\n",
       "      <th></th>\n",
       "      <th>step_id</th>\n",
       "      <th>timestamp</th>\n",
       "      <th>action</th>\n",
       "      <th>user_id</th>\n",
       "    </tr>\n",
       "  </thead>\n",
       "  <tbody>\n",
       "    <tr>\n",
       "      <th>0</th>\n",
       "      <td>32815</td>\n",
       "      <td>1434340848</td>\n",
       "      <td>viewed</td>\n",
       "      <td>17632</td>\n",
       "    </tr>\n",
       "    <tr>\n",
       "      <th>1</th>\n",
       "      <td>32815</td>\n",
       "      <td>1434340848</td>\n",
       "      <td>passed</td>\n",
       "      <td>17632</td>\n",
       "    </tr>\n",
       "  </tbody>\n",
       "</table>\n",
       "</div>"
      ],
      "text/plain": [
       "   step_id   timestamp  action  user_id\n",
       "0    32815  1434340848  viewed    17632\n",
       "1    32815  1434340848  passed    17632"
      ]
     },
     "execution_count": 12,
     "metadata": {},
     "output_type": "execute_result"
    }
   ],
   "source": [
    "events_data.head(2)"
   ]
  },
  {
   "cell_type": "code",
   "execution_count": 14,
   "id": "4039e779",
   "metadata": {},
   "outputs": [
    {
     "data": {
      "text/plain": [
       "(3480703, 4)"
      ]
     },
     "execution_count": 14,
     "metadata": {},
     "output_type": "execute_result"
    }
   ],
   "source": [
    "events_data.shape"
   ]
  },
  {
   "cell_type": "code",
   "execution_count": 15,
   "id": "cef0545f",
   "metadata": {},
   "outputs": [
    {
     "data": {
      "text/plain": [
       "19234"
      ]
     },
     "execution_count": 15,
     "metadata": {},
     "output_type": "execute_result"
    }
   ],
   "source": [
    "events_data.user_id.nunique()"
   ]
  },
  {
   "cell_type": "code",
   "execution_count": 16,
   "id": "b001aa4d",
   "metadata": {},
   "outputs": [
    {
     "data": {
      "text/html": [
       "<div>\n",
       "<style scoped>\n",
       "    .dataframe tbody tr th:only-of-type {\n",
       "        vertical-align: middle;\n",
       "    }\n",
       "\n",
       "    .dataframe tbody tr th {\n",
       "        vertical-align: top;\n",
       "    }\n",
       "\n",
       "    .dataframe thead th {\n",
       "        text-align: right;\n",
       "    }\n",
       "</style>\n",
       "<table border=\"1\" class=\"dataframe\">\n",
       "  <thead>\n",
       "    <tr style=\"text-align: right;\">\n",
       "      <th></th>\n",
       "      <th>step_id</th>\n",
       "      <th>timestamp</th>\n",
       "      <th>submission_status</th>\n",
       "      <th>user_id</th>\n",
       "    </tr>\n",
       "  </thead>\n",
       "  <tbody>\n",
       "    <tr>\n",
       "      <th>0</th>\n",
       "      <td>31971</td>\n",
       "      <td>1434349275</td>\n",
       "      <td>correct</td>\n",
       "      <td>15853</td>\n",
       "    </tr>\n",
       "    <tr>\n",
       "      <th>1</th>\n",
       "      <td>31972</td>\n",
       "      <td>1434348300</td>\n",
       "      <td>correct</td>\n",
       "      <td>15853</td>\n",
       "    </tr>\n",
       "  </tbody>\n",
       "</table>\n",
       "</div>"
      ],
      "text/plain": [
       "   step_id   timestamp submission_status  user_id\n",
       "0    31971  1434349275           correct    15853\n",
       "1    31972  1434348300           correct    15853"
      ]
     },
     "execution_count": 16,
     "metadata": {},
     "output_type": "execute_result"
    }
   ],
   "source": [
    "submissions_data.head(2)"
   ]
  },
  {
   "cell_type": "code",
   "execution_count": 17,
   "id": "75f738be",
   "metadata": {},
   "outputs": [
    {
     "data": {
      "text/plain": [
       "(509104, 4)"
      ]
     },
     "execution_count": 17,
     "metadata": {},
     "output_type": "execute_result"
    }
   ],
   "source": [
    "submissions_data.shape"
   ]
  },
  {
   "cell_type": "code",
   "execution_count": 18,
   "id": "b1d916df",
   "metadata": {},
   "outputs": [],
   "source": [
    "merged = events_data.merge(submissions_data, how='outer')"
   ]
  },
  {
   "cell_type": "code",
   "execution_count": 19,
   "id": "47a44130",
   "metadata": {},
   "outputs": [
    {
     "data": {
      "text/plain": [
       "0"
      ]
     },
     "execution_count": 19,
     "metadata": {},
     "output_type": "execute_result"
    }
   ],
   "source": [
    "# Сумма всех пропусков в массиве данных events\n",
    "events_data.isna().sum().sum() "
   ]
  },
  {
   "cell_type": "code",
   "execution_count": 20,
   "id": "cad253b8",
   "metadata": {},
   "outputs": [
    {
     "data": {
      "text/plain": [
       "0"
      ]
     },
     "execution_count": 20,
     "metadata": {},
     "output_type": "execute_result"
    }
   ],
   "source": [
    "# Сумма всех пропусков в массиве данных submissions\n",
    "submissions_data.isna().sum().sum() "
   ]
  },
  {
   "cell_type": "code",
   "execution_count": 21,
   "id": "11a42794",
   "metadata": {},
   "outputs": [
    {
     "data": {
      "text/plain": [
       "array(['viewed', 'passed', 'discovered', 'started_attempt'], dtype=object)"
      ]
     },
     "execution_count": 21,
     "metadata": {},
     "output_type": "execute_result"
    }
   ],
   "source": [
    "# Уникальные значения в колонке  Action\n",
    "events_data.action.unique()"
   ]
  },
  {
   "cell_type": "markdown",
   "id": "ecca4cb8",
   "metadata": {},
   "source": [
    "### Вывод:\n",
    "* Пропусков и аномалий в необработанных данных не обнаружено\n",
    "* Колонка timestamp содержит данные о времени события в unix формате. Её следует перевести в формат Даты для более удобной работы"
   ]
  },
  {
   "cell_type": "markdown",
   "id": "0c3466f8",
   "metadata": {},
   "source": [
    "# 2. Исследовательский анализ данных и предобработка"
   ]
  },
  {
   "cell_type": "code",
   "execution_count": 22,
   "id": "0b52b6b0",
   "metadata": {},
   "outputs": [],
   "source": [
    "# Add 'date' column from \"timestamp\"\n",
    "events_data['date'] = pd.to_datetime(events_data.timestamp, unit = 's')"
   ]
  },
  {
   "cell_type": "code",
   "execution_count": 23,
   "id": "fa74ac34",
   "metadata": {},
   "outputs": [],
   "source": [
    "# Add column with Date without Time\n",
    "events_data['day'] = (events_data\n",
    "                      .date\n",
    "                      .dt\n",
    "                      .date\n",
    ")   "
   ]
  },
  {
   "cell_type": "code",
   "execution_count": 24,
   "id": "53a35a54",
   "metadata": {},
   "outputs": [
    {
     "data": {
      "image/png": "[encoded data removed]",
      "text/plain": [
       "<Figure size 1000x400 with 1 Axes>"
      ]
     },
     "metadata": {},
     "output_type": "display_data"
    }
   ],
   "source": [
    "# Graph Count of unique users per day\n",
    "sns.set(rc = {'figure.figsize': (10,4)}) \n",
    "graph = (events_data\n",
    "    .groupby('day') \n",
    "    .user_id\n",
    "    .nunique()\n",
    "    .plot()        \n",
    ")\n",
    "\n",
    "plt.title('Count of unique users per day');"
   ]
  },
  {
   "cell_type": "code",
   "execution_count": 25,
   "id": "72fc4c32",
   "metadata": {},
   "outputs": [],
   "source": [
    "# Count each type of activity for each User\n",
    "users_events_data = (\n",
    "    events_data\n",
    "        .pivot_table(index='user_id', columns='action', values='step_id',\n",
    "                     aggfunc='count', fill_value=0)\n",
    "        .reset_index()\n",
    ")"
   ]
  },
  {
   "cell_type": "code",
   "execution_count": 26,
   "id": "8c0c26b3",
   "metadata": {},
   "outputs": [
    {
     "data": {
      "text/html": [
       "<div>\n",
       "<style scoped>\n",
       "    .dataframe tbody tr th:only-of-type {\n",
       "        vertical-align: middle;\n",
       "    }\n",
       "\n",
       "    .dataframe tbody tr th {\n",
       "        vertical-align: top;\n",
       "    }\n",
       "\n",
       "    .dataframe thead th {\n",
       "        text-align: right;\n",
       "    }\n",
       "</style>\n",
       "<table border=\"1\" class=\"dataframe\">\n",
       "  <thead>\n",
       "    <tr style=\"text-align: right;\">\n",
       "      <th>action</th>\n",
       "      <th>user_id</th>\n",
       "      <th>discovered</th>\n",
       "      <th>passed</th>\n",
       "      <th>started_attempt</th>\n",
       "      <th>viewed</th>\n",
       "    </tr>\n",
       "  </thead>\n",
       "  <tbody>\n",
       "    <tr>\n",
       "      <th>0</th>\n",
       "      <td>1</td>\n",
       "      <td>1</td>\n",
       "      <td>0</td>\n",
       "      <td>0</td>\n",
       "      <td>1</td>\n",
       "    </tr>\n",
       "    <tr>\n",
       "      <th>1</th>\n",
       "      <td>2</td>\n",
       "      <td>9</td>\n",
       "      <td>9</td>\n",
       "      <td>2</td>\n",
       "      <td>10</td>\n",
       "    </tr>\n",
       "    <tr>\n",
       "      <th>2</th>\n",
       "      <td>3</td>\n",
       "      <td>91</td>\n",
       "      <td>87</td>\n",
       "      <td>30</td>\n",
       "      <td>192</td>\n",
       "    </tr>\n",
       "  </tbody>\n",
       "</table>\n",
       "</div>"
      ],
      "text/plain": [
       "action  user_id  discovered  passed  started_attempt  viewed\n",
       "0             1           1       0                0       1\n",
       "1             2           9       9                2      10\n",
       "2             3          91      87               30     192"
      ]
     },
     "execution_count": 26,
     "metadata": {},
     "output_type": "execute_result"
    }
   ],
   "source": [
    "users_events_data.head(3)"
   ]
  },
  {
   "cell_type": "code",
   "execution_count": 27,
   "id": "2f5cf5bc",
   "metadata": {
    "scrolled": true
   },
   "outputs": [
    {
     "data": {
      "image/png": "[encoded data removed]",
      "text/plain": [
       "<Figure size 1000x330 with 1 Axes>"
      ]
     },
     "metadata": {},
     "output_type": "display_data"
    }
   ],
   "source": [
    "# Hist of discovered steps by users\n",
    "sns.set(rc = {'figure.figsize': (10, 3.3)})\n",
    "users_events_data.discovered.hist(legend = 1);\n",
    "\n",
    "plt.xlabel('Discovered steps')\n",
    "plt.ylabel('Unique users');"
   ]
  },
  {
   "cell_type": "code",
   "execution_count": 28,
   "id": "55a2bd15",
   "metadata": {},
   "outputs": [
    {
     "data": {
      "text/html": [
       "<div>\n",
       "<style scoped>\n",
       "    .dataframe tbody tr th:only-of-type {\n",
       "        vertical-align: middle;\n",
       "    }\n",
       "\n",
       "    .dataframe tbody tr th {\n",
       "        vertical-align: top;\n",
       "    }\n",
       "\n",
       "    .dataframe thead th {\n",
       "        text-align: right;\n",
       "    }\n",
       "</style>\n",
       "<table border=\"1\" class=\"dataframe\">\n",
       "  <thead>\n",
       "    <tr style=\"text-align: right;\">\n",
       "      <th></th>\n",
       "      <th>step_id</th>\n",
       "      <th>timestamp</th>\n",
       "      <th>submission_status</th>\n",
       "      <th>user_id</th>\n",
       "      <th>date</th>\n",
       "      <th>day</th>\n",
       "    </tr>\n",
       "  </thead>\n",
       "  <tbody>\n",
       "    <tr>\n",
       "      <th>0</th>\n",
       "      <td>31971</td>\n",
       "      <td>1434349275</td>\n",
       "      <td>correct</td>\n",
       "      <td>15853</td>\n",
       "      <td>2015-06-15 06:21:15</td>\n",
       "      <td>2015-06-15</td>\n",
       "    </tr>\n",
       "    <tr>\n",
       "      <th>1</th>\n",
       "      <td>31972</td>\n",
       "      <td>1434348300</td>\n",
       "      <td>correct</td>\n",
       "      <td>15853</td>\n",
       "      <td>2015-06-15 06:05:00</td>\n",
       "      <td>2015-06-15</td>\n",
       "    </tr>\n",
       "    <tr>\n",
       "      <th>2</th>\n",
       "      <td>31972</td>\n",
       "      <td>1478852149</td>\n",
       "      <td>wrong</td>\n",
       "      <td>15853</td>\n",
       "      <td>2016-11-11 08:15:49</td>\n",
       "      <td>2016-11-11</td>\n",
       "    </tr>\n",
       "  </tbody>\n",
       "</table>\n",
       "</div>"
      ],
      "text/plain": [
       "   step_id   timestamp submission_status  user_id                date  \\\n",
       "0    31971  1434349275           correct    15853 2015-06-15 06:21:15   \n",
       "1    31972  1434348300           correct    15853 2015-06-15 06:05:00   \n",
       "2    31972  1478852149             wrong    15853 2016-11-11 08:15:49   \n",
       "\n",
       "          day  \n",
       "0  2015-06-15  \n",
       "1  2015-06-15  \n",
       "2  2016-11-11  "
      ]
     },
     "execution_count": 28,
     "metadata": {},
     "output_type": "execute_result"
    }
   ],
   "source": [
    "# Add Date and Day columns to Submission data\n",
    "submissions_data['date'] = pd.to_datetime(submissions_data.timestamp, unit = 's')\n",
    "submissions_data['day'] = submissions_data.date.dt.date\n",
    "submissions_data.head(3)"
   ]
  },
  {
   "cell_type": "code",
   "execution_count": 29,
   "id": "2070c11f",
   "metadata": {},
   "outputs": [
    {
     "data": {
      "text/html": [
       "<div>\n",
       "<style scoped>\n",
       "    .dataframe tbody tr th:only-of-type {\n",
       "        vertical-align: middle;\n",
       "    }\n",
       "\n",
       "    .dataframe tbody tr th {\n",
       "        vertical-align: top;\n",
       "    }\n",
       "\n",
       "    .dataframe thead th {\n",
       "        text-align: right;\n",
       "    }\n",
       "</style>\n",
       "<table border=\"1\" class=\"dataframe\">\n",
       "  <thead>\n",
       "    <tr style=\"text-align: right;\">\n",
       "      <th>submission_status</th>\n",
       "      <th>user_id</th>\n",
       "      <th>correct</th>\n",
       "      <th>wrong</th>\n",
       "    </tr>\n",
       "  </thead>\n",
       "  <tbody>\n",
       "    <tr>\n",
       "      <th>0</th>\n",
       "      <td>2</td>\n",
       "      <td>2</td>\n",
       "      <td>0</td>\n",
       "    </tr>\n",
       "    <tr>\n",
       "      <th>1</th>\n",
       "      <td>3</td>\n",
       "      <td>29</td>\n",
       "      <td>23</td>\n",
       "    </tr>\n",
       "    <tr>\n",
       "      <th>2</th>\n",
       "      <td>5</td>\n",
       "      <td>2</td>\n",
       "      <td>2</td>\n",
       "    </tr>\n",
       "  </tbody>\n",
       "</table>\n",
       "</div>"
      ],
      "text/plain": [
       "submission_status  user_id  correct  wrong\n",
       "0                        2        2      0\n",
       "1                        3       29     23\n",
       "2                        5        2      2"
      ]
     },
     "execution_count": 29,
     "metadata": {},
     "output_type": "execute_result"
    }
   ],
   "source": [
    "# Count of Correct and Wrong submissions for each User\n",
    "users_scores = (\n",
    "    submissions_data\n",
    "        .pivot_table(index='user_id', aggfunc='count', columns='submission_status',\n",
    "                     values='step_id', fill_value=0)\n",
    "        .reset_index()\n",
    ")\n",
    "\n",
    "users_scores.head(3)"
   ]
  },
  {
   "cell_type": "markdown",
   "id": "ececfc32",
   "metadata": {},
   "source": [
    "## Hypothesis: \n",
    "\n",
    "There is dependance between Count of student inactive Days and the probability that the Student will return.\n",
    "\n",
    "Let's explore statistics about break duration and Return probability"
   ]
  },
  {
   "cell_type": "code",
   "execution_count": 30,
   "id": "ca3e7936",
   "metadata": {},
   "outputs": [],
   "source": [
    "# gap_data variable with data about the duration of breaks\n",
    "gap_data = (\n",
    "    events_data[['user_id', 'day', 'timestamp']]\n",
    "        .drop_duplicates(subset=['user_id','day'])\n",
    "        .groupby('user_id')['timestamp']\n",
    "        .apply(list)\n",
    "        .apply(np.diff)\n",
    "        .values\n",
    ")\n",
    "\n",
    "gap_data = pd.Series(np.concatenate(gap_data, axis=0))\n",
    "gap_data = gap_data / (24*60*60)"
   ]
  },
  {
   "cell_type": "code",
   "execution_count": 31,
   "id": "aa0e9595",
   "metadata": {},
   "outputs": [
    {
     "data": {
      "image/png": "[encoded data removed]",
      "text/plain": [
       "<Figure size 1000x330 with 1 Axes>"
      ]
     },
     "metadata": {},
     "output_type": "display_data"
    }
   ],
   "source": [
    "sns.set(rc = {'figure.figsize': (10, 3.3)})\n",
    "gap_data[gap_data < 200].hist()\n",
    "plt.title('Break duration');"
   ]
  },
  {
   "cell_type": "code",
   "execution_count": 32,
   "id": "61980ac4",
   "metadata": {},
   "outputs": [
    {
     "data": {
      "text/plain": [
       "59.760440972222156"
      ]
     },
     "execution_count": 32,
     "metadata": {},
     "output_type": "execute_result"
    }
   ],
   "source": [
    "gap_data.quantile(0.95)"
   ]
  },
  {
   "cell_type": "code",
   "execution_count": 33,
   "id": "0a4c0eb4",
   "metadata": {},
   "outputs": [
    {
     "data": {
      "text/plain": [
       "18.325995370370403"
      ]
     },
     "execution_count": 33,
     "metadata": {},
     "output_type": "execute_result"
    }
   ],
   "source": [
    "gap_data.quantile(0.9)"
   ]
  },
  {
   "cell_type": "markdown",
   "id": "d8595acb",
   "metadata": {},
   "source": [
    "### Вывод: \n",
    "* 5% пользователей возвращаются на курс после перерыва более 59 дней\n",
    "* 10% пользователей возвращаются на курс после перерыва более 18 дней.\n",
    "* Используем 30 дней - как срок через который юзер считается бросившим курс "
   ]
  },
  {
   "cell_type": "markdown",
   "id": "a7236eef",
   "metadata": {},
   "source": [
    "******************************************************************************************************************************"
   ]
  },
  {
   "cell_type": "markdown",
   "id": "d942e477",
   "metadata": {},
   "source": [
    "# 3. Модель и кросс-валидация "
   ]
  },
  {
   "cell_type": "markdown",
   "id": "fb1037cd",
   "metadata": {},
   "source": [
    "* It makes sense to predict student drop as soon as possible. \n",
    "* Need to create Features for Model that represents Users behavior in the early stages"
   ]
  },
  {
   "cell_type": "markdown",
   "id": "d4fc0251",
   "metadata": {},
   "source": [
    "## 3.1 Searching for raw Features "
   ]
  },
  {
   "cell_type": "code",
   "execution_count": 34,
   "id": "54633cfa",
   "metadata": {},
   "outputs": [],
   "source": [
    "now = events_data.timestamp.max()      # last timestamp\n",
    "drop_out_treshold = 30 * 24 * 60 * 60      # timestamp equals 1 month"
   ]
  },
  {
   "cell_type": "code",
   "execution_count": 35,
   "id": "c9320a07",
   "metadata": {},
   "outputs": [],
   "source": [
    "# Lets create DF users_data to collect all usefull info in one place\n",
    "users_data = (\n",
    "    events_data\n",
    "        .groupby('user_id', as_index = False)\n",
    "        .agg({'timestamp' : 'max'}) \n",
    "        .rename(columns = {'timestamp' : \"last_timestamp\"})\n",
    ") "
   ]
  },
  {
   "cell_type": "code",
   "execution_count": 36,
   "id": "57ba2d7f",
   "metadata": {},
   "outputs": [
    {
     "data": {
      "text/html": [
       "<div>\n",
       "<style scoped>\n",
       "    .dataframe tbody tr th:only-of-type {\n",
       "        vertical-align: middle;\n",
       "    }\n",
       "\n",
       "    .dataframe tbody tr th {\n",
       "        vertical-align: top;\n",
       "    }\n",
       "\n",
       "    .dataframe thead th {\n",
       "        text-align: right;\n",
       "    }\n",
       "</style>\n",
       "<table border=\"1\" class=\"dataframe\">\n",
       "  <thead>\n",
       "    <tr style=\"text-align: right;\">\n",
       "      <th></th>\n",
       "      <th>user_id</th>\n",
       "      <th>last_timestamp</th>\n",
       "    </tr>\n",
       "  </thead>\n",
       "  <tbody>\n",
       "    <tr>\n",
       "      <th>0</th>\n",
       "      <td>1</td>\n",
       "      <td>1472827464</td>\n",
       "    </tr>\n",
       "    <tr>\n",
       "      <th>1</th>\n",
       "      <td>2</td>\n",
       "      <td>1519226966</td>\n",
       "    </tr>\n",
       "    <tr>\n",
       "      <th>2</th>\n",
       "      <td>3</td>\n",
       "      <td>1444581588</td>\n",
       "    </tr>\n",
       "  </tbody>\n",
       "</table>\n",
       "</div>"
      ],
      "text/plain": [
       "   user_id  last_timestamp\n",
       "0        1      1472827464\n",
       "1        2      1519226966\n",
       "2        3      1444581588"
      ]
     },
     "execution_count": 36,
     "metadata": {},
     "output_type": "execute_result"
    }
   ],
   "source": [
    "users_data.head(3)"
   ]
  },
  {
   "cell_type": "code",
   "execution_count": 37,
   "id": "737a49ee",
   "metadata": {},
   "outputs": [],
   "source": [
    "users_data['is_gone_user'] = (now - users_data.last_timestamp) > drop_out_treshold"
   ]
  },
  {
   "cell_type": "code",
   "execution_count": 38,
   "id": "10abff02",
   "metadata": {},
   "outputs": [],
   "source": [
    "# Add data about correct and wrong subs\n",
    "users_data = users_data.merge(users_scores, how='outer') \n",
    "\n",
    "# Now we have empty cells Because of Theoretical steps has no submissions (empty correct and wrong)\n",
    "users_data = users_data.fillna(0)  \n",
    "\n",
    "# Add Users activities Count  data\n",
    "users_data = users_data.merge(users_events_data, how='outer')"
   ]
  },
  {
   "cell_type": "code",
   "execution_count": 39,
   "id": "1418fa0e",
   "metadata": {},
   "outputs": [],
   "source": [
    "# Unique days count for each user\n",
    "users_days = (\n",
    "    events_data\n",
    "        .groupby('user_id')\n",
    "        .day.nunique()\n",
    "        .to_frame()\n",
    "        .reset_index()\n",
    ")"
   ]
  },
  {
   "cell_type": "code",
   "execution_count": 40,
   "id": "447d69b5",
   "metadata": {},
   "outputs": [],
   "source": [
    "# Add Unique days count for each User\n",
    "users_data = users_data.merge(users_days, how='outer')"
   ]
  },
  {
   "cell_type": "code",
   "execution_count": 41,
   "id": "70585c0a",
   "metadata": {},
   "outputs": [],
   "source": [
    "# To pass the Course student has to reach 170 points\n",
    "users_data['passed_course'] = users_data.passed > 170 "
   ]
  },
  {
   "cell_type": "code",
   "execution_count": 42,
   "id": "29ce957b",
   "metadata": {},
   "outputs": [],
   "source": [
    "user_min_time = (\n",
    "    events_data\n",
    "        .groupby('user_id', as_index=0)\n",
    "        .agg({'timestamp' : 'min'})\n",
    "        .rename({'timestamp' : 'min_timestamp'}, axis=1)\n",
    ")"
   ]
  },
  {
   "cell_type": "code",
   "execution_count": 43,
   "id": "cd302f2d",
   "metadata": {
    "scrolled": true
   },
   "outputs": [
    {
     "data": {
      "text/html": [
       "<div>\n",
       "<style scoped>\n",
       "    .dataframe tbody tr th:only-of-type {\n",
       "        vertical-align: middle;\n",
       "    }\n",
       "\n",
       "    .dataframe tbody tr th {\n",
       "        vertical-align: top;\n",
       "    }\n",
       "\n",
       "    .dataframe thead th {\n",
       "        text-align: right;\n",
       "    }\n",
       "</style>\n",
       "<table border=\"1\" class=\"dataframe\">\n",
       "  <thead>\n",
       "    <tr style=\"text-align: right;\">\n",
       "      <th></th>\n",
       "      <th>step_id</th>\n",
       "      <th>timestamp</th>\n",
       "      <th>action</th>\n",
       "      <th>user_id</th>\n",
       "      <th>date</th>\n",
       "      <th>day</th>\n",
       "      <th>threshold_timestamp</th>\n",
       "    </tr>\n",
       "  </thead>\n",
       "  <tbody>\n",
       "    <tr>\n",
       "      <th>0</th>\n",
       "      <td>32815</td>\n",
       "      <td>1434340848</td>\n",
       "      <td>viewed</td>\n",
       "      <td>17632</td>\n",
       "      <td>2015-06-15 04:00:48</td>\n",
       "      <td>2015-06-15</td>\n",
       "      <td>1434600048</td>\n",
       "    </tr>\n",
       "    <tr>\n",
       "      <th>1</th>\n",
       "      <td>32815</td>\n",
       "      <td>1434340848</td>\n",
       "      <td>passed</td>\n",
       "      <td>17632</td>\n",
       "      <td>2015-06-15 04:00:48</td>\n",
       "      <td>2015-06-15</td>\n",
       "      <td>1434600048</td>\n",
       "    </tr>\n",
       "    <tr>\n",
       "      <th>2</th>\n",
       "      <td>32815</td>\n",
       "      <td>1434340848</td>\n",
       "      <td>discovered</td>\n",
       "      <td>17632</td>\n",
       "      <td>2015-06-15 04:00:48</td>\n",
       "      <td>2015-06-15</td>\n",
       "      <td>1434600048</td>\n",
       "    </tr>\n",
       "  </tbody>\n",
       "</table>\n",
       "</div>"
      ],
      "text/plain": [
       "   step_id   timestamp      action  user_id                date         day  \\\n",
       "0    32815  1434340848      viewed    17632 2015-06-15 04:00:48  2015-06-15   \n",
       "1    32815  1434340848      passed    17632 2015-06-15 04:00:48  2015-06-15   \n",
       "2    32815  1434340848  discovered    17632 2015-06-15 04:00:48  2015-06-15   \n",
       "\n",
       "   threshold_timestamp  \n",
       "0           1434600048  \n",
       "1           1434600048  \n",
       "2           1434600048  "
      ]
     },
     "execution_count": 43,
     "metadata": {},
     "output_type": "execute_result"
    }
   ],
   "source": [
    "# Create Events_data_train var which contains only first 3 days of each User activity \n",
    "users_data = users_data.merge(user_min_time, how='outer')\n",
    "users_data['threshold_timestamp'] = users_data.min_timestamp + 3*24*60*60\n",
    "events_data = events_data.merge(users_data[['user_id', 'threshold_timestamp']], how='outer')\n",
    "events_data_train = events_data[events_data.timestamp <= events_data.threshold_timestamp ]\n",
    "events_data_train.head(3)"
   ]
  },
  {
   "cell_type": "code",
   "execution_count": 44,
   "id": "eaee19a5",
   "metadata": {},
   "outputs": [
    {
     "data": {
      "text/html": [
       "<div>\n",
       "<style scoped>\n",
       "    .dataframe tbody tr th:only-of-type {\n",
       "        vertical-align: middle;\n",
       "    }\n",
       "\n",
       "    .dataframe tbody tr th {\n",
       "        vertical-align: top;\n",
       "    }\n",
       "\n",
       "    .dataframe thead th {\n",
       "        text-align: right;\n",
       "    }\n",
       "</style>\n",
       "<table border=\"1\" class=\"dataframe\">\n",
       "  <thead>\n",
       "    <tr style=\"text-align: right;\">\n",
       "      <th></th>\n",
       "      <th>step_id</th>\n",
       "      <th>timestamp</th>\n",
       "      <th>submission_status</th>\n",
       "      <th>user_id</th>\n",
       "      <th>date</th>\n",
       "      <th>day</th>\n",
       "      <th>threshold_timestamp</th>\n",
       "    </tr>\n",
       "  </thead>\n",
       "  <tbody>\n",
       "    <tr>\n",
       "      <th>0</th>\n",
       "      <td>31971</td>\n",
       "      <td>1434349275</td>\n",
       "      <td>correct</td>\n",
       "      <td>15853</td>\n",
       "      <td>2015-06-15 06:21:15</td>\n",
       "      <td>2015-06-15</td>\n",
       "      <td>1434605177</td>\n",
       "    </tr>\n",
       "    <tr>\n",
       "      <th>1</th>\n",
       "      <td>31972</td>\n",
       "      <td>1434348300</td>\n",
       "      <td>correct</td>\n",
       "      <td>15853</td>\n",
       "      <td>2015-06-15 06:05:00</td>\n",
       "      <td>2015-06-15</td>\n",
       "      <td>1434605177</td>\n",
       "    </tr>\n",
       "    <tr>\n",
       "      <th>4</th>\n",
       "      <td>31976</td>\n",
       "      <td>1434348123</td>\n",
       "      <td>wrong</td>\n",
       "      <td>15853</td>\n",
       "      <td>2015-06-15 06:02:03</td>\n",
       "      <td>2015-06-15</td>\n",
       "      <td>1434605177</td>\n",
       "    </tr>\n",
       "  </tbody>\n",
       "</table>\n",
       "</div>"
      ],
      "text/plain": [
       "   step_id   timestamp submission_status  user_id                date  \\\n",
       "0    31971  1434349275           correct    15853 2015-06-15 06:21:15   \n",
       "1    31972  1434348300           correct    15853 2015-06-15 06:05:00   \n",
       "4    31976  1434348123             wrong    15853 2015-06-15 06:02:03   \n",
       "\n",
       "          day  threshold_timestamp  \n",
       "0  2015-06-15           1434605177  \n",
       "1  2015-06-15           1434605177  \n",
       "4  2015-06-15           1434605177  "
      ]
     },
     "execution_count": 44,
     "metadata": {},
     "output_type": "execute_result"
    }
   ],
   "source": [
    "# Create sub_data_train var. which contains only first 3 days of each User Submissions \n",
    "submissions_data = submissions_data.merge(users_data[['user_id', 'threshold_timestamp']], how = 'left')\n",
    "sub_data_train = submissions_data[submissions_data.timestamp <= submissions_data.threshold_timestamp]\n",
    "sub_data_train.head(3)"
   ]
  },
  {
   "cell_type": "markdown",
   "id": "e3c2f63d",
   "metadata": {},
   "source": [
    "## 3.2 Feature collection"
   ]
  },
  {
   "cell_type": "markdown",
   "id": "1c3e4ac2",
   "metadata": {},
   "source": [
    "* Let's create X DataFrame with Features"
   ]
  },
  {
   "cell_type": "code",
   "execution_count": 45,
   "id": "c32ef22d",
   "metadata": {},
   "outputs": [
    {
     "data": {
      "text/plain": [
       "(8913, 2)"
      ]
     },
     "execution_count": 45,
     "metadata": {},
     "output_type": "execute_result"
    }
   ],
   "source": [
    "# First Feature is number of unique 'active' days in first 3 days of Users \n",
    "X = sub_data_train.groupby('user_id').day.nunique().to_frame().reset_index()\n",
    "X.shape"
   ]
  },
  {
   "cell_type": "code",
   "execution_count": 46,
   "id": "8a655a43",
   "metadata": {},
   "outputs": [],
   "source": [
    "# Second Feature \n",
    "steps_tried = (\n",
    "    sub_data_train \n",
    "        .groupby('user_id')\n",
    "        .step_id\n",
    "        .nunique()\n",
    "        .to_frame()\n",
    "        .reset_index()\n",
    "        .rename(columns={'step_id':'steps_tried'})\n",
    "    )"
   ]
  },
  {
   "cell_type": "code",
   "execution_count": 47,
   "id": "cdf7fd7b",
   "metadata": {},
   "outputs": [
    {
     "data": {
      "text/html": [
       "<div>\n",
       "<style scoped>\n",
       "    .dataframe tbody tr th:only-of-type {\n",
       "        vertical-align: middle;\n",
       "    }\n",
       "\n",
       "    .dataframe tbody tr th {\n",
       "        vertical-align: top;\n",
       "    }\n",
       "\n",
       "    .dataframe thead th {\n",
       "        text-align: right;\n",
       "    }\n",
       "</style>\n",
       "<table border=\"1\" class=\"dataframe\">\n",
       "  <thead>\n",
       "    <tr style=\"text-align: right;\">\n",
       "      <th></th>\n",
       "      <th>user_id</th>\n",
       "      <th>day</th>\n",
       "      <th>steps_tried</th>\n",
       "    </tr>\n",
       "  </thead>\n",
       "  <tbody>\n",
       "    <tr>\n",
       "      <th>0</th>\n",
       "      <td>2</td>\n",
       "      <td>1</td>\n",
       "      <td>2</td>\n",
       "    </tr>\n",
       "    <tr>\n",
       "      <th>1</th>\n",
       "      <td>3</td>\n",
       "      <td>1</td>\n",
       "      <td>4</td>\n",
       "    </tr>\n",
       "    <tr>\n",
       "      <th>2</th>\n",
       "      <td>8</td>\n",
       "      <td>1</td>\n",
       "      <td>11</td>\n",
       "    </tr>\n",
       "  </tbody>\n",
       "</table>\n",
       "</div>"
      ],
      "text/plain": [
       "   user_id  day  steps_tried\n",
       "0        2    1            2\n",
       "1        3    1            4\n",
       "2        8    1           11"
      ]
     },
     "execution_count": 47,
     "metadata": {},
     "output_type": "execute_result"
    }
   ],
   "source": [
    "X = X.merge(steps_tried, how = 'outer')\n",
    "X.rename(columns = {'day' : 'days'})\n",
    "X.head(3)"
   ]
  },
  {
   "cell_type": "code",
   "execution_count": 48,
   "id": "19cdf51d",
   "metadata": {},
   "outputs": [],
   "source": [
    "# 3-d and 4-th Features is Count of steps with each submission status for each User\n",
    "X = X.merge(\n",
    "    sub_data_train\n",
    "        .pivot_table(index='user_id', columns='submission_status', values='step_id', \n",
    "                     aggfunc='count', fill_value=0)\n",
    "        .reset_index()\n",
    ")"
   ]
  },
  {
   "cell_type": "code",
   "execution_count": 49,
   "id": "b7c11e44",
   "metadata": {},
   "outputs": [],
   "source": [
    "# 5-th Feature\n",
    "X['correct_ratio'] = X.correct / (X.correct + X.wrong)"
   ]
  },
  {
   "cell_type": "code",
   "execution_count": 50,
   "id": "7366be9a",
   "metadata": {},
   "outputs": [],
   "source": [
    "# 6-9 Features \n",
    "X = X.merge(\n",
    "    events_data_train\n",
    "        .pivot_table(index = 'user_id', columns = 'action', values = 'step_id', \n",
    "                     aggfunc = 'count', fill_value = 0)\n",
    "        .reset_index()[['user_id', 'viewed']], how = 'outer'\n",
    ")"
   ]
  },
  {
   "cell_type": "code",
   "execution_count": 51,
   "id": "58533fa5",
   "metadata": {},
   "outputs": [],
   "source": [
    "X = X.fillna(0)\n",
    "# 10-12 Features\n",
    "X = X.merge(users_data[['user_id', 'is_gone_user', \"passed_course\"]], how='outer')"
   ]
  },
  {
   "cell_type": "code",
   "execution_count": 52,
   "id": "86ee89a8",
   "metadata": {},
   "outputs": [
    {
     "data": {
      "text/plain": [
       "(19234, 9)"
      ]
     },
     "execution_count": 52,
     "metadata": {},
     "output_type": "execute_result"
    }
   ],
   "source": [
    "X.shape"
   ]
  },
  {
   "cell_type": "code",
   "execution_count": 53,
   "id": "4283c94d",
   "metadata": {},
   "outputs": [],
   "source": [
    "X = X[~((X.is_gone_user == False) & (X.passed_course == False))]"
   ]
  },
  {
   "cell_type": "code",
   "execution_count": 54,
   "id": "3024d174",
   "metadata": {},
   "outputs": [
    {
     "data": {
      "text/plain": [
       "(17985, 9)"
      ]
     },
     "execution_count": 54,
     "metadata": {},
     "output_type": "execute_result"
    }
   ],
   "source": [
    "X.shape"
   ]
  },
  {
   "cell_type": "code",
   "execution_count": 55,
   "id": "c22b9f63",
   "metadata": {
    "scrolled": true
   },
   "outputs": [
    {
     "data": {
      "text/plain": [
       "1249"
      ]
     },
     "execution_count": 55,
     "metadata": {},
     "output_type": "execute_result"
    }
   ],
   "source": [
    "19234 - 17985 "
   ]
  },
  {
   "cell_type": "code",
   "execution_count": 56,
   "id": "65e9fa88",
   "metadata": {},
   "outputs": [],
   "source": [
    "# Target variable\n",
    "y = X.passed_course.map(int)"
   ]
  },
  {
   "cell_type": "code",
   "execution_count": 57,
   "id": "42b58153",
   "metadata": {},
   "outputs": [],
   "source": [
    "X = X.drop(columns=['is_gone_user','passed_course'])"
   ]
  },
  {
   "cell_type": "code",
   "execution_count": 58,
   "id": "30b5f1bf",
   "metadata": {},
   "outputs": [],
   "source": [
    "X = X.set_index(X.user_id)"
   ]
  },
  {
   "cell_type": "code",
   "execution_count": 59,
   "id": "1f666ad6",
   "metadata": {},
   "outputs": [],
   "source": [
    "X = X.drop(\"user_id\", axis=1)"
   ]
  },
  {
   "cell_type": "code",
   "execution_count": 60,
   "id": "d9e77172",
   "metadata": {
    "scrolled": true
   },
   "outputs": [
    {
     "data": {
      "text/html": [
       "<div>\n",
       "<style scoped>\n",
       "    .dataframe tbody tr th:only-of-type {\n",
       "        vertical-align: middle;\n",
       "    }\n",
       "\n",
       "    .dataframe tbody tr th {\n",
       "        vertical-align: top;\n",
       "    }\n",
       "\n",
       "    .dataframe thead th {\n",
       "        text-align: right;\n",
       "    }\n",
       "</style>\n",
       "<table border=\"1\" class=\"dataframe\">\n",
       "  <thead>\n",
       "    <tr style=\"text-align: right;\">\n",
       "      <th></th>\n",
       "      <th>day</th>\n",
       "      <th>steps_tried</th>\n",
       "      <th>correct</th>\n",
       "      <th>wrong</th>\n",
       "      <th>correct_ratio</th>\n",
       "      <th>viewed</th>\n",
       "    </tr>\n",
       "    <tr>\n",
       "      <th>user_id</th>\n",
       "      <th></th>\n",
       "      <th></th>\n",
       "      <th></th>\n",
       "      <th></th>\n",
       "      <th></th>\n",
       "      <th></th>\n",
       "    </tr>\n",
       "  </thead>\n",
       "  <tbody>\n",
       "    <tr>\n",
       "      <th>2</th>\n",
       "      <td>1.0</td>\n",
       "      <td>2.0</td>\n",
       "      <td>2.0</td>\n",
       "      <td>0.0</td>\n",
       "      <td>1.0</td>\n",
       "      <td>9</td>\n",
       "    </tr>\n",
       "    <tr>\n",
       "      <th>3</th>\n",
       "      <td>1.0</td>\n",
       "      <td>4.0</td>\n",
       "      <td>4.0</td>\n",
       "      <td>4.0</td>\n",
       "      <td>0.5</td>\n",
       "      <td>20</td>\n",
       "    </tr>\n",
       "    <tr>\n",
       "      <th>8</th>\n",
       "      <td>1.0</td>\n",
       "      <td>11.0</td>\n",
       "      <td>9.0</td>\n",
       "      <td>21.0</td>\n",
       "      <td>0.3</td>\n",
       "      <td>154</td>\n",
       "    </tr>\n",
       "  </tbody>\n",
       "</table>\n",
       "</div>"
      ],
      "text/plain": [
       "         day  steps_tried  correct  wrong  correct_ratio  viewed\n",
       "user_id                                                         \n",
       "2        1.0          2.0      2.0    0.0            1.0       9\n",
       "3        1.0          4.0      4.0    4.0            0.5      20\n",
       "8        1.0         11.0      9.0   21.0            0.3     154"
      ]
     },
     "execution_count": 60,
     "metadata": {},
     "output_type": "execute_result"
    }
   ],
   "source": [
    "X.head(3)"
   ]
  },
  {
   "cell_type": "code",
   "execution_count": 61,
   "id": "00a0bcca",
   "metadata": {},
   "outputs": [],
   "source": [
    "X_tmp = X.copy()"
   ]
  },
  {
   "cell_type": "code",
   "execution_count": 62,
   "id": "78a5ccee",
   "metadata": {},
   "outputs": [],
   "source": [
    "y_tmp = y.copy()"
   ]
  },
  {
   "cell_type": "code",
   "execution_count": 63,
   "id": "9da79f32",
   "metadata": {},
   "outputs": [],
   "source": [
    "X_train, X_test, y_train, y_test = train_test_split(X_tmp, y_tmp, random_state= 42)"
   ]
  },
  {
   "cell_type": "code",
   "execution_count": 64,
   "id": "1ac86499",
   "metadata": {},
   "outputs": [],
   "source": [
    "decision_tree_clf = DecisionTreeClassifier()"
   ]
  },
  {
   "cell_type": "code",
   "execution_count": 65,
   "id": "c2368a98",
   "metadata": {},
   "outputs": [],
   "source": [
    "params = {'criterion' : ['entropy'], \n",
    "          'max_depth' : range(1,10), \n",
    "          'min_samples_split' : range(2,10), \n",
    "          'min_samples_leaf' : range(1,10),\n",
    "         }"
   ]
  },
  {
   "cell_type": "code",
   "execution_count": 66,
   "id": "7b940894",
   "metadata": {},
   "outputs": [],
   "source": [
    "grid_search = GridSearchCV(decision_tree_clf, param_grid=params, cv=5)"
   ]
  },
  {
   "cell_type": "code",
   "execution_count": 67,
   "id": "194f37ca",
   "metadata": {},
   "outputs": [
    {
     "data": {
      "text/plain": [
       "GridSearchCV(cv=5, estimator=DecisionTreeClassifier(),\n",
       "             param_grid={'criterion': ['entropy'], 'max_depth': range(1, 10),\n",
       "                         'min_samples_leaf': range(1, 10),\n",
       "                         'min_samples_split': range(2, 10)})"
      ]
     },
     "execution_count": 67,
     "metadata": {},
     "output_type": "execute_result"
    }
   ],
   "source": [
    "grid_search.fit(X_train, y_train)"
   ]
  },
  {
   "cell_type": "code",
   "execution_count": 68,
   "id": "513f8110",
   "metadata": {},
   "outputs": [
    {
     "data": {
      "text/plain": [
       "DecisionTreeClassifier(criterion='entropy', max_depth=5, min_samples_leaf=9)"
      ]
     },
     "execution_count": 68,
     "metadata": {},
     "output_type": "execute_result"
    }
   ],
   "source": [
    "grid_search.best_estimator_"
   ]
  },
  {
   "cell_type": "code",
   "execution_count": 69,
   "id": "a5918aac",
   "metadata": {},
   "outputs": [],
   "source": [
    "best_tree_clf = grid_search.best_estimator_"
   ]
  },
  {
   "cell_type": "code",
   "execution_count": 70,
   "id": "e800b436",
   "metadata": {},
   "outputs": [
    {
     "data": {
      "text/plain": [
       "DecisionTreeClassifier(criterion='entropy', max_depth=5, min_samples_leaf=9)"
      ]
     },
     "execution_count": 70,
     "metadata": {},
     "output_type": "execute_result"
    }
   ],
   "source": [
    "best_tree_clf.fit(X_train, y_train)"
   ]
  },
  {
   "cell_type": "code",
   "execution_count": 71,
   "id": "65fccc39",
   "metadata": {},
   "outputs": [],
   "source": [
    "from sklearn import tree"
   ]
  },
  {
   "cell_type": "code",
   "execution_count": 72,
   "id": "65cdb4d4",
   "metadata": {},
   "outputs": [
    {
     "data": {
      "image/png": "[encoded data removed]",
      "text/plain": [
       "<Figure size 2500x700 with 1 Axes>"
      ]
     },
     "metadata": {},
     "output_type": "display_data"
    }
   ],
   "source": [
    "sns.set(rc = {'figure.figsize': (25, 7)})\n",
    "\n",
    "tree.plot_tree(best_tree_clf, fontsize=6)\n",
    "plt.show()"
   ]
  },
  {
   "cell_type": "code",
   "execution_count": 73,
   "id": "e9d0425f",
   "metadata": {},
   "outputs": [
    {
     "data": {
      "text/plain": [
       "array([0.02866279, 0.00198401, 0.80046723, 0.00658006, 0.13140658,\n",
       "       0.03089934])"
      ]
     },
     "execution_count": 73,
     "metadata": {},
     "output_type": "execute_result"
    }
   ],
   "source": [
    "best_tree_clf.feature_importances_"
   ]
  },
  {
   "cell_type": "code",
   "execution_count": 74,
   "id": "9c8bcfaa",
   "metadata": {},
   "outputs": [],
   "source": [
    "y_pred = best_tree_clf.predict(X_test)"
   ]
  },
  {
   "cell_type": "code",
   "execution_count": 75,
   "id": "34ddb699",
   "metadata": {},
   "outputs": [],
   "source": [
    "confusion_mtrx = confusion_matrix(y_test, y_pred)"
   ]
  },
  {
   "cell_type": "code",
   "execution_count": 76,
   "id": "0379e6c5",
   "metadata": {},
   "outputs": [
    {
     "data": {
      "text/plain": [
       "<sklearn.metrics._plot.confusion_matrix.ConfusionMatrixDisplay at 0x7fb5ead87c40>"
      ]
     },
     "execution_count": 76,
     "metadata": {},
     "output_type": "execute_result"
    },
    {
     "data": {
      "image/png": "[encoded data removed]",
      "text/plain": [
       "<Figure size 2500x700 with 2 Axes>"
      ]
     },
     "metadata": {},
     "output_type": "display_data"
    }
   ],
   "source": [
    "disp = ConfusionMatrixDisplay(confusion_mtrx)\n",
    "disp.plot()"
   ]
  },
  {
   "cell_type": "code",
   "execution_count": 77,
   "id": "17783dcb",
   "metadata": {},
   "outputs": [
    {
     "name": "stdout",
     "output_type": "stream",
     "text": [
      "              precision    recall  f1-score   support\n",
      "\n",
      "           0       0.94      0.98      0.96      4192\n",
      "           1       0.45      0.20      0.28       305\n",
      "\n",
      "    accuracy                           0.93      4497\n",
      "   macro avg       0.70      0.59      0.62      4497\n",
      "weighted avg       0.91      0.93      0.92      4497\n",
      "\n"
     ]
    }
   ],
   "source": [
    "print(classification_report(y_test, y_pred))"
   ]
  },
  {
   "cell_type": "code",
   "execution_count": null,
   "id": "a7efda33",
   "metadata": {},
   "outputs": [],
   "source": []
  },
  {
   "cell_type": "code",
   "execution_count": null,
   "id": "71f7ac53",
   "metadata": {},
   "outputs": [],
   "source": []
  }
 ],
 "metadata": {
  "kernelspec": {
   "display_name": "Python 3 (ipykernel)",
   "language": "python",
   "name": "python3"
  },
  "language_info": {
   "codemirror_mode": {
    "name": "ipython",
    "version": 3
   },
   "file_extension": ".py",
   "mimetype": "text/x-python",
   "name": "python",
   "nbconvert_exporter": "python",
   "pygments_lexer": "ipython3",
   "version": "3.9.13"
  }
 },
 "nbformat": 4,
 "nbformat_minor": 5
}
